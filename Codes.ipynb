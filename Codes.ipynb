{
  "nbformat": 4,
  "nbformat_minor": 0,
  "metadata": {
    "colab": {
      "name": "Codes.ipynb",
      "provenance": []
    },
    "kernelspec": {
      "name": "python3",
      "display_name": "Python 3"
    },
    "language_info": {
      "name": "python"
    }
  },
  "cells": [
    {
      "cell_type": "code",
      "execution_count": null,
      "metadata": {
        "id": "aRp9i12VdjHv"
      },
      "outputs": [],
      "source": [
        "pip install pm4py"
      ]
    },
    {
      "cell_type": "code",
      "source": [
        "import warnings\n",
        "warnings.filterwarnings('ignore')"
      ],
      "metadata": {
        "id": "euWr5svmIM0N"
      },
      "execution_count": null,
      "outputs": []
    },
    {
      "cell_type": "markdown",
      "source": [
        "###Importing Data from drive"
      ],
      "metadata": {
        "id": "4IWBRxfkele2"
      }
    },
    {
      "cell_type": "code",
      "source": [
        "import os\n",
        "CURR_DIR = os.getcwd()\n",
        "for subdir, dirs, files in os.walk('/content/drive/My Drive/Connector'):\n",
        "    print(dirs)\n",
        "isExist = os.path.exists('/content/drive/My Drive/Connector')\n",
        "print(isExist)"
      ],
      "metadata": {
        "id": "7hifz9cC7SWv"
      },
      "execution_count": null,
      "outputs": []
    },
    {
      "cell_type": "markdown",
      "source": [
        "First round data"
      ],
      "metadata": {
        "id": "HIXg5tvDl3TQ"
      }
    },
    {
      "cell_type": "code",
      "source": [
        "import os\n",
        "Model_directory1 = '/content/drive/My Drive/Connector/Models/'\n",
        "\n",
        "file_list_model1 = []   # define file_list to save all csv files\n",
        "for subdir, dirs, files in os.walk(Model_directory1):\n",
        "    for file in files:\n",
        "        if file.endswith('.csv'):\n",
        "            file_list_model1.append(Model_directory1+file)   # save the filenames in file_list\n",
        "\n",
        "file_list_model1\n"
      ],
      "metadata": {
        "id": "ZeVTIVyzCf8w"
      },
      "execution_count": null,
      "outputs": []
    },
    {
      "cell_type": "code",
      "source": [
        "log_directory1 = '/content/drive/My Drive/Connector/Logs/'\n",
        "\n",
        "file_list_log1 = []   # define file_list to save all csv files\n",
        "for subdir, dirs, files in os.walk(log_directory1):\n",
        "    for file in files:\n",
        "        if file.endswith('.csv'):\n",
        "            file_list_log1.append(log_directory1+file)   # save the filenames in file_list\n",
        "\n",
        "file_list_log1"
      ],
      "metadata": {
        "id": "bAEEvfCPCmkt"
      },
      "execution_count": null,
      "outputs": []
    },
    {
      "cell_type": "markdown",
      "source": [
        "Second round data"
      ],
      "metadata": {
        "id": "n1xwh77vl6dW"
      }
    },
    {
      "cell_type": "code",
      "source": [
        "import os\n",
        "Model_directory = '/content/drive/My Drive/Top10Connectors/train/'\n",
        "print(list(os.walk(Model_directory)))\n",
        "file_list_model = []   # define file_list to save all csv files\n",
        "for subdir, dirs, files in os.walk(Model_directory):\n",
        "    \n",
        "    for file in files:\n",
        "        if file.endswith('.csv'):\n",
        "            file_list_model.append(Model_directory+file)   # save the filenames in file_list\n",
        "\n",
        "file_list_model\n",
        "print(len(file_list_model))"
      ],
      "metadata": {
        "id": "Dusv3BF7edcO"
      },
      "execution_count": null,
      "outputs": []
    },
    {
      "cell_type": "code",
      "source": [
        "log_directory = '/content/drive/My Drive/Top10Connectors/test/'\n",
        "\n",
        "file_list_log = []   # define file_list to save all csv files\n",
        "for subdir, dirs, files in os.walk(log_directory):\n",
        "    for file in files:\n",
        "        if file.endswith('.csv'):\n",
        "            file_list_log.append(log_directory+file)   # save the filenames in file_list\n",
        "\n",
        "file_list_log"
      ],
      "metadata": {
        "id": "vcDPYGU7i4oA"
      },
      "execution_count": null,
      "outputs": []
    },
    {
      "cell_type": "markdown",
      "source": [
        "###Add libraries for PM4PY"
      ],
      "metadata": {
        "id": "u-NaZixnjmdB"
      }
    },
    {
      "cell_type": "code",
      "source": [
        "import pandas as pd\n",
        "import pm4py\n",
        "from pm4py.objects.log.util import dataframe_utils\n",
        "from pm4py.objects.conversion.log import converter as log_converter\n",
        "from pm4py.objects.log.importer.xes import importer as xes_importer\n",
        "from pm4py.algo.discovery.inductive import algorithm as inductive_miner\n",
        "from pm4py.algo.discovery.inductive.variants import im_f\n",
        "from pm4py.algo.discovery.inductive import parameters\n",
        "from pm4py.algo.discovery.heuristics import algorithm as heuristics_miner\n",
        "from pm4py.algo.conformance.alignments.petri_net import algorithm as alignments\n",
        "from pm4py.algo.conformance.tokenreplay import algorithm as token_replay"
      ],
      "metadata": {
        "id": "R3CbWqxFjqEX"
      },
      "execution_count": null,
      "outputs": []
    },
    {
      "cell_type": "markdown",
      "source": [
        "##Create functions for process discovery and conformance checking"
      ],
      "metadata": {
        "id": "3TvNqBopkU_M"
      }
    },
    {
      "cell_type": "markdown",
      "source": [
        "####Function for Inductive miner and alignment conformance checking algorithms"
      ],
      "metadata": {
        "id": "wnEfJqmjkeuX"
      }
    },
    {
      "cell_type": "code",
      "source": [
        "def Conf_ind_align(model,log):\n",
        "    model = pd.read_csv(model, sep=',',encoding='latin1')\n",
        "    log = pd.read_csv(log, sep=',',encoding='latin1')\n",
        "    model_csv= model[['RecordingId','ApplicationProcessNameStepName','TimeStamp']]\n",
        "    log_csv= log[['RecordingId','ApplicationProcessNameStepName','TimeStamp']]\n",
        "\n",
        "    cols = ['case:concept:name','concept:name','time:timestamp']\n",
        "    model_csv.columns = cols\n",
        "    model_csv['time:timestamp'] = pd.to_datetime(model_csv['time:timestamp'])\n",
        "    model_csv['concept:name'] = model_csv['concept:name'].astype(str)\n",
        "\n",
        "    log_csv.columns = cols\n",
        "    log_csv['time:timestamp'] = pd.to_datetime(log_csv['time:timestamp'])\n",
        "    log_csv['concept:name'] = log_csv['concept:name'].astype(str)\n",
        "\n",
        "    model = log_converter.apply(model_csv, variant=log_converter.Variants.TO_EVENT_LOG)\n",
        "    log = log_converter.apply(log_csv, variant=log_converter.Variants.TO_EVENT_LOG)\n",
        "\n",
        "    # process discovery using Inductive Miner\n",
        "    net, initial_marking, final_marking = inductive_miner.apply(model)\n",
        "    # Conformance checking using alignments\n",
        "    aligned_traces = alignments.apply_log(log, net, initial_marking, final_marking)\n",
        "\n",
        "    df = pd.DataFrame(aligned_traces)\n",
        "    dff = df[\"fitness\"].mean()\n",
        "\n",
        "    return df"
      ],
      "metadata": {
        "id": "K4Z-62uEkBmH"
      },
      "execution_count": null,
      "outputs": []
    },
    {
      "cell_type": "markdown",
      "source": [
        "####Function for Inductive infrequent miner with default parameters and alignment conformance checking algorithms\n",
        "\n"
      ],
      "metadata": {
        "id": "Uj2B77s6lOxW"
      }
    },
    {
      "cell_type": "code",
      "source": [
        "def Conf_imf_align(model,log):\n",
        "    model = pd.read_csv(model, sep=',',encoding='latin1')\n",
        "    log = pd.read_csv(log, sep=',',encoding='latin1')\n",
        "    model_csv= model[['RecordingId','ApplicationProcessNameStepName','TimeStamp']]\n",
        "    log_csv= log[['RecordingId','ApplicationProcessNameStepName','TimeStamp']]\n",
        "\n",
        "    cols = ['case:concept:name','concept:name','time:timestamp']\n",
        "    model_csv.columns = cols\n",
        "    model_csv['time:timestamp'] = pd.to_datetime(model_csv['time:timestamp'])\n",
        "    model_csv['concept:name'] = model_csv['concept:name'].astype(str)\n",
        "\n",
        "    log_csv.columns = cols\n",
        "    log_csv['time:timestamp'] = pd.to_datetime(log_csv['time:timestamp'])\n",
        "    log_csv['concept:name'] = log_csv['concept:name'].astype(str)\n",
        "\n",
        "    model = log_converter.apply(model_csv, variant=log_converter.Variants.TO_EVENT_LOG)\n",
        "    log = log_converter.apply(log_csv, variant=log_converter.Variants.TO_EVENT_LOG)\n",
        "\n",
        "    net, initial_marking, final_marking = im_f.algorithm.apply(model,parameters=None)\n",
        "    aligned_traces = alignments.apply_log(log, net, initial_marking, final_marking)\n",
        "\n",
        "    df = pd.DataFrame(aligned_traces)\n",
        "    dff = df[\"fitness\"].mean()\n",
        "    return dff"
      ],
      "metadata": {
        "id": "HSk7wtjJlO6D"
      },
      "execution_count": null,
      "outputs": []
    },
    {
      "cell_type": "markdown",
      "source": [
        "####Function for Inductive infrequent miner with \"noiseThreshold\" : 0.5 and alignment conformance checking algorithms "
      ],
      "metadata": {
        "id": "w02FqWWFl_5A"
      }
    },
    {
      "cell_type": "code",
      "source": [
        "def Conf_imf_align_NT(model,log):\n",
        "    model = pd.read_csv(model, sep=',',encoding='latin1')\n",
        "    log = pd.read_csv(log, sep=',',encoding='latin1')\n",
        "    model_csv= model[['RecordingId','ApplicationProcessNameStepName','TimeStamp']]\n",
        "    log_csv= log[['RecordingId','ApplicationProcessNameStepName','TimeStamp']]\n",
        "\n",
        "    cols = ['case:concept:name','concept:name','time:timestamp']\n",
        "    model_csv.columns = cols\n",
        "    model_csv['time:timestamp'] = pd.to_datetime(model_csv['time:timestamp'])\n",
        "    model_csv['concept:name'] = model_csv['concept:name'].astype(str)\n",
        "\n",
        "    log_csv.columns = cols\n",
        "    log_csv['time:timestamp'] = pd.to_datetime(log_csv['time:timestamp'])\n",
        "    log_csv['concept:name'] = log_csv['concept:name'].astype(str)\n",
        "\n",
        "    model = log_converter.apply(model_csv, variant=log_converter.Variants.TO_EVENT_LOG)\n",
        "    log = log_converter.apply(log_csv, variant=log_converter.Variants.TO_EVENT_LOG)\n",
        "\n",
        "    net, initial_marking, final_marking = im_f.algorithm.apply(model,parameters={\"noiseThreshold\" : 0.5})\n",
        "    aligned_traces = alignments.apply_log(log, net, initial_marking, final_marking)\n",
        "\n",
        "    df = pd.DataFrame(aligned_traces)\n",
        "    dff = df[\"fitness\"].mean()\n",
        "    return df"
      ],
      "metadata": {
        "id": "976jCPwEmAAu"
      },
      "execution_count": null,
      "outputs": []
    },
    {
      "cell_type": "markdown",
      "source": [
        "####Function for Heuristic miner with default parameters and alignment conformance checking algorithms\n"
      ],
      "metadata": {
        "id": "bnrm1gVjnYgf"
      }
    },
    {
      "cell_type": "code",
      "source": [
        "def Conf_Heu_alig(model,log):\n",
        "    model = pd.read_csv(model, sep=',',encoding='latin1')\n",
        "    log = pd.read_csv(log, sep=',',encoding='latin1')\n",
        "    model_csv= model[['RecordingId','ApplicationProcessNameStepName','TimeStamp']]\n",
        "    log_csv= log[['RecordingId','ApplicationProcessNameStepName','TimeStamp']]\n",
        "\n",
        "    cols = ['case:concept:name','concept:name','time:timestamp']\n",
        "    model_csv.columns = cols\n",
        "    model_csv['time:timestamp'] = pd.to_datetime(model_csv['time:timestamp'])\n",
        "    model_csv['concept:name'] = model_csv['concept:name'].astype(str)\n",
        "\n",
        "    log_csv.columns = cols\n",
        "    log_csv['time:timestamp'] = pd.to_datetime(log_csv['time:timestamp'])\n",
        "    log_csv['concept:name'] = log_csv['concept:name'].astype(str)\n",
        "\n",
        "    model = log_converter.apply(model_csv, variant=log_converter.Variants.TO_EVENT_LOG)\n",
        "    log = log_converter.apply(log_csv, variant=log_converter.Variants.TO_EVENT_LOG)\n",
        "\n",
        "    net, initial_marking, final_marking = heuristics_miner.apply(model,parameters={heuristics_miner.Variants.CLASSIC.value.Parameters.DEPENDENCY_THRESH: 0.99})\n",
        "    aligned_traces = alignments.apply_log(log, net, initial_marking, final_marking)\n",
        "\n",
        "    df = pd.DataFrame(aligned_traces)\n",
        "    dff = df[\"fitness\"].mean()\n",
        "    return dff\n",
        "\n",
        "\n"
      ],
      "metadata": {
        "id": "8f6kXa-MnX_d"
      },
      "execution_count": null,
      "outputs": []
    },
    {
      "cell_type": "markdown",
      "source": [
        "####Function for Inductive miner and token-based replay conformance checking algorithms"
      ],
      "metadata": {
        "id": "2tfetZkoDXEI"
      }
    },
    {
      "cell_type": "code",
      "source": [
        "def Conf_ind_token(model,log):\n",
        "    model = pd.read_csv(model, sep=',',encoding='latin1')\n",
        "    log = pd.read_csv(log, sep=',',encoding='latin1')\n",
        "    model_csv= model[['RecordingId','ApplicationProcessNameStepName','TimeStamp']]\n",
        "    log_csv= log[['RecordingId','ApplicationProcessNameStepName','TimeStamp']]\n",
        "\n",
        "    cols = ['case:concept:name','concept:name','time:timestamp']\n",
        "    model_csv.columns = cols\n",
        "    model_csv['time:timestamp'] = pd.to_datetime(model_csv['time:timestamp'])\n",
        "    model_csv['concept:name'] = model_csv['concept:name'].astype(str)\n",
        "\n",
        "    log_csv.columns = cols\n",
        "    log_csv['time:timestamp'] = pd.to_datetime(log_csv['time:timestamp'])\n",
        "    log_csv['concept:name'] = log_csv['concept:name'].astype(str)\n",
        "\n",
        "    model = log_converter.apply(model_csv, variant=log_converter.Variants.TO_EVENT_LOG)\n",
        "    log = log_converter.apply(log_csv, variant=log_converter.Variants.TO_EVENT_LOG)\n",
        "\n",
        "    # process discovery using Inductive Miner\n",
        "    net, initial_marking, final_marking = inductive_miner.apply(model)\n",
        "    # Conformance checking using token-based replay\n",
        "    aligned_traces = token_replay.apply(log, net, initial_marking, final_marking)\n",
        "\n",
        "    df = pd.DataFrame(aligned_traces)\n",
        "    dff = df[\"trace_fitness\"].mean()\n",
        "\n",
        "    return dff"
      ],
      "metadata": {
        "id": "m9OUyE91pF0a"
      },
      "execution_count": null,
      "outputs": []
    },
    {
      "cell_type": "markdown",
      "source": [
        "####Function for Inductive infrequent miner with default parameters and token-based replay conformance checking algorithms"
      ],
      "metadata": {
        "id": "A8UoB_iAD_CH"
      }
    },
    {
      "cell_type": "code",
      "source": [
        "def Conf_imf_token(model,log):\n",
        "    model = pd.read_csv(model, sep=',',encoding='latin1')\n",
        "    log = pd.read_csv(log, sep=',',encoding='latin1')\n",
        "    model_csv= model[['RecordingId','ApplicationProcessNameStepName','TimeStamp']]\n",
        "    log_csv= log[['RecordingId','ApplicationProcessNameStepName','TimeStamp']]\n",
        "\n",
        "    cols = ['case:concept:name','concept:name','time:timestamp']\n",
        "    model_csv.columns = cols\n",
        "    model_csv['time:timestamp'] = pd.to_datetime(model_csv['time:timestamp'])\n",
        "    model_csv['concept:name'] = model_csv['concept:name'].astype(str)\n",
        "\n",
        "    log_csv.columns = cols\n",
        "    log_csv['time:timestamp'] = pd.to_datetime(log_csv['time:timestamp'])\n",
        "    log_csv['concept:name'] = log_csv['concept:name'].astype(str)\n",
        "\n",
        "    model = log_converter.apply(model_csv, variant=log_converter.Variants.TO_EVENT_LOG)\n",
        "    log = log_converter.apply(log_csv, variant=log_converter.Variants.TO_EVENT_LOG)\n",
        "\n",
        "    # process discovery using Inductive Miner Infrequent\n",
        "    net, initial_marking, final_marking = im_f.algorithm.apply(model,parameters=None)\n",
        "    # Conformance checking using token-based replay\n",
        "    aligned_traces = token_replay.apply(log, net, initial_marking, final_marking)\n",
        "\n",
        "    df = pd.DataFrame(aligned_traces)\n",
        "    dff = df[\"trace_fitness\"].mean()\n",
        "    return dff"
      ],
      "metadata": {
        "id": "EdH5vR8FD_MS"
      },
      "execution_count": null,
      "outputs": []
    },
    {
      "cell_type": "markdown",
      "source": [
        "####Function for Inductive infrequent miner with \"noiseThreshold\" : 0.5 and token-based replay conformance checking algorithms "
      ],
      "metadata": {
        "id": "ipJZCLb_EaDU"
      }
    },
    {
      "cell_type": "code",
      "source": [
        "def Conf_imf_token_NT(model,log):\n",
        "    model = pd.read_csv(model, sep=',',encoding='latin1')\n",
        "    log = pd.read_csv(log, sep=',',encoding='latin1')\n",
        "    model_csv= model[['RecordingId','ApplicationProcessNameStepName','TimeStamp']]\n",
        "    log_csv= log[['RecordingId','ApplicationProcessNameStepName','TimeStamp']]\n",
        "\n",
        "    cols = ['case:concept:name','concept:name','time:timestamp']\n",
        "    model_csv.columns = cols\n",
        "    model_csv['time:timestamp'] = pd.to_datetime(model_csv['time:timestamp'])\n",
        "    model_csv['concept:name'] = model_csv['concept:name'].astype(str)\n",
        "\n",
        "    log_csv.columns = cols\n",
        "    log_csv['time:timestamp'] = pd.to_datetime(log_csv['time:timestamp'])\n",
        "    log_csv['concept:name'] = log_csv['concept:name'].astype(str)\n",
        "\n",
        "    model = log_converter.apply(model_csv, variant=log_converter.Variants.TO_EVENT_LOG)\n",
        "    log = log_converter.apply(log_csv, variant=log_converter.Variants.TO_EVENT_LOG)\n",
        "\n",
        "    net, initial_marking, final_marking = im_f.algorithm.apply(model,parameters={\"noiseThreshold\" : 0.5})\n",
        "    # Conformance checking using token-based replay\n",
        "    aligned_traces = token_replay.apply(log, net, initial_marking, final_marking)\n",
        "\n",
        "    df = pd.DataFrame(aligned_traces)\n",
        "    dff = df[\"trace_fitness\"].mean()\n",
        "    return dff"
      ],
      "metadata": {
        "id": "z8dbLKO3EaLj"
      },
      "execution_count": null,
      "outputs": []
    },
    {
      "cell_type": "markdown",
      "source": [
        "####Function for Heuristic miner with default parameters and token-based replay conformance checking algorithms"
      ],
      "metadata": {
        "id": "sFwcR5ZLEsnu"
      }
    },
    {
      "cell_type": "code",
      "source": [
        "def Conf_Heu_token(model,log):\n",
        "    model = pd.read_csv(model, sep=',',encoding='latin1')\n",
        "    log = pd.read_csv(log, sep=',',encoding='latin1')\n",
        "    model_csv= model[['RecordingId','ApplicationProcessNameStepName','TimeStamp']]\n",
        "    log_csv= log[['RecordingId','ApplicationProcessNameStepName','TimeStamp']]\n",
        "\n",
        "    cols = ['case:concept:name','concept:name','time:timestamp']\n",
        "    model_csv.columns = cols\n",
        "    model_csv['time:timestamp'] = pd.to_datetime(model_csv['time:timestamp'])\n",
        "    model_csv['concept:name'] = model_csv['concept:name'].astype(str)\n",
        "\n",
        "    log_csv.columns = cols\n",
        "    log_csv['time:timestamp'] = pd.to_datetime(log_csv['time:timestamp'])\n",
        "    log_csv['concept:name'] = log_csv['concept:name'].astype(str)\n",
        "\n",
        "    model = log_converter.apply(model_csv, variant=log_converter.Variants.TO_EVENT_LOG)\n",
        "    log = log_converter.apply(log_csv, variant=log_converter.Variants.TO_EVENT_LOG)\n",
        "\n",
        "    net, initial_marking, final_marking = heuristics_miner.apply(model,parameters={heuristics_miner.Variants.CLASSIC.value.Parameters.DEPENDENCY_THRESH: 0.99})\n",
        "    # Conformance checking using token-based replay\n",
        "    aligned_traces = token_replay.apply(log, net, initial_marking, final_marking)\n",
        "\n",
        "    df = pd.DataFrame(aligned_traces)\n",
        "    dff = df[\"trace_fitness\"].mean()\n",
        "    return dff\n",
        "\n",
        "\n"
      ],
      "metadata": {
        "id": "oxS3eqLmEsw9"
      },
      "execution_count": null,
      "outputs": []
    },
    {
      "cell_type": "markdown",
      "source": [
        "## Train and get the Results"
      ],
      "metadata": {
        "id": "EXmrYajfFPjM"
      }
    },
    {
      "cell_type": "markdown",
      "source": [
        "### First test"
      ],
      "metadata": {
        "id": "kd3mnz25FYM6"
      }
    },
    {
      "cell_type": "code",
      "source": [
        "y = file_list_model1\n",
        "x = file_list_log1\n",
        "data_first=[]\n",
        "for i in file_list_model1:\n",
        "  row=[]\n",
        "  for j in file_list_log1:\n",
        "     row.append(Conf_ind_align(i,j))\n",
        "  data_first.append(row)\n",
        "  \n",
        "\n",
        "df_first1 = pd.DataFrame(data_first, index=y, columns=x)\n",
        "df_first1"
      ],
      "metadata": {
        "id": "djWlZKOwFUm8"
      },
      "execution_count": null,
      "outputs": []
    },
    {
      "cell_type": "code",
      "source": [
        "y = file_list_model1\n",
        "x = file_list_log1\n",
        "data_first=[]\n",
        "for i in file_list_model1:\n",
        "  row=[]\n",
        "  for j in file_list_log1:\n",
        "     row.append(Conf_imf_align(i,j))\n",
        "  data_first.append(row)\n",
        "  \n",
        "\n",
        "df_first1 = pd.DataFrame(data_first, index=y, columns=x)\n",
        "df_first1\n",
        "df_max = df_first1.max()\n",
        "df_max = pd.DataFrame(df_max)\n",
        "df_max.columns=['MAX']\n",
        "df_max=df_max.transpose()\n",
        "df = df_first1.append(df_max)\n",
        "df"
      ],
      "metadata": {
        "id": "qGsoYEYTH88z"
      },
      "execution_count": null,
      "outputs": []
    },
    {
      "cell_type": "code",
      "source": [
        "y = file_list_model\n",
        "x = file_list_log\n",
        "data_first0=[]\n",
        "for i in file_list_model:\n",
        "  row=[]\n",
        "  for j in file_list_log:\n",
        "     row.append(Conf_imf_align_NT(i,j))\n",
        "  data_first0.append(row)\n",
        "  \n",
        "\n",
        "df_first0 = pd.DataFrame(data_first0, index=y, columns=x)\n",
        "df_first0"
      ],
      "metadata": {
        "id": "sts70oo_2BFD"
      },
      "execution_count": null,
      "outputs": []
    },
    {
      "cell_type": "code",
      "source": [
        "y = file_list_model1\n",
        "x = file_list_log1\n",
        "data_first=[]\n",
        "for i in file_list_model1:\n",
        "  row=[]\n",
        "  for j in file_list_log1:\n",
        "     row.append(\"%.4f\" %Conf_imf_token(i,j))\n",
        "  data_first.append(row)\n",
        "  \n",
        "\n",
        "df_first1 = pd.DataFrame(data_first, index=y, columns=x)\n",
        "df_first1"
      ],
      "metadata": {
        "id": "3mgZdUaj2Fs6"
      },
      "execution_count": null,
      "outputs": []
    },
    {
      "cell_type": "code",
      "source": [
        "y = file_list_model1\n",
        "x = file_list_log1\n",
        "data_first=[]\n",
        "for i in file_list_model1:\n",
        "  row=[]\n",
        "  for j in file_list_log1:\n",
        "     row.append(\"%.4f\" %Conf_ind_token(i,j))\n",
        "  data_first.append(row)\n",
        "  \n",
        "\n",
        "df_first1 = pd.DataFrame(data_first, index=y, columns=x)\n",
        "df_first1\n",
        "df_max = df_first1.max()\n",
        "df_max = pd.DataFrame(df_max)\n",
        "df_max.columns=['MAX']\n",
        "df_max=df_max.transpose()\n",
        "df = df_first1.append(df_max)\n",
        "df"
      ],
      "metadata": {
        "id": "LvaHzH2E8ObA"
      },
      "execution_count": null,
      "outputs": []
    },
    {
      "cell_type": "code",
      "source": [
        "y = file_list_model1\n",
        "x = file_list_log1\n",
        "data_first=[]\n",
        "for i in file_list_model1:\n",
        "  row=[]\n",
        "  for j in file_list_log1:\n",
        "     row.append(\"%.4f\" %Conf_Heu_alig(i,j))\n",
        "  data_first.append(row)\n",
        "  \n",
        "\n",
        "df_first1 = pd.DataFrame(data_first, index=y, columns=x)\n",
        "df_first1\n",
        "df_max = df_first1.max()\n",
        "df_max = pd.DataFrame(df_max)\n",
        "df_max.columns=['MAX']\n",
        "df_max=df_max.transpose()\n",
        "df = df_first1.append(df_max)\n",
        "df"
      ],
      "metadata": {
        "id": "piwnsvf9259V"
      },
      "execution_count": null,
      "outputs": []
    },
    {
      "cell_type": "code",
      "source": [
        "y = file_list_model1\n",
        "x = file_list_log1\n",
        "data_first=[]\n",
        "for i in file_list_model1:\n",
        "  row=[]\n",
        "  for j in file_list_log1:\n",
        "     row.append(\"%.4f\" %Conf_Heu_token(i,j))\n",
        "  data_first.append(row)\n",
        "  \n",
        "\n",
        "df_first1 = pd.DataFrame(data_first, index=y, columns=x)\n",
        "df_first1\n",
        "df_max = df_first1.max()\n",
        "df_max = pd.DataFrame(df_max)\n",
        "df_max.columns=['MAX']\n",
        "df_max=df_max.transpose()\n",
        "df = df_first1.append(df_max)\n",
        "df"
      ],
      "metadata": {
        "id": "7NPqgFgJ5wOI"
      },
      "execution_count": null,
      "outputs": []
    },
    {
      "cell_type": "code",
      "source": [
        "y = file_list_model\n",
        "x = file_list_log\n",
        "data_first=[]\n",
        "for i in file_list_model:\n",
        "  row=[]\n",
        "  for j in file_list_log:\n",
        "     row.append(\"%.4f\" %Conf_Heu_alig(i,j))\n",
        "  data_first.append(row)\n",
        "  \n",
        "\n",
        "df_first1 = pd.DataFrame(data_first, index=y, columns=x)\n",
        "df_first1\n",
        "df_max = df_first1.max()\n",
        "df_max = pd.DataFrame(df_max)\n",
        "df_max.columns=['MAX']\n",
        "df_max=df_max.transpose()\n",
        "df = df_first1.append(df_max)\n",
        "df"
      ],
      "metadata": {
        "id": "c7Yawnwps-rn"
      },
      "execution_count": null,
      "outputs": []
    },
    {
      "cell_type": "code",
      "source": [
        "def imf_NT(model):\n",
        "    model = pd.read_csv(model, sep=',',encoding='latin1')\n",
        "    model_csv= model[['RecordingId','ApplicationProcessNameStepName','TimeStamp']]\n",
        "\n",
        "    cols = ['case:concept:name','concept:name','time:timestamp']\n",
        "    model_csv.columns = cols\n",
        "    model_csv['time:timestamp'] = pd.to_datetime(model_csv['time:timestamp'])\n",
        "    model_csv['concept:name'] = model_csv['concept:name'].astype(str)\n",
        "\n",
        "\n",
        "    model = log_converter.apply(model_csv, variant=log_converter.Variants.TO_EVENT_LOG)\n",
        "\n",
        "    net, initial_marking, final_marking = im_f.algorithm.apply(model,parameters={\"noiseThreshold\" : 0.5})\n",
        "\n",
        "    return net, initial_marking, final_marking"
      ],
      "metadata": {
        "id": "23Gb826N2WuX"
      },
      "execution_count": null,
      "outputs": []
    },
    {
      "cell_type": "code",
      "source": [
        "y = file_list_model\n",
        "models=[]\n",
        "for i in file_list_model:\n",
        "     models.append(imf_NT(i))\n",
        "\n"
      ],
      "metadata": {
        "id": "mMtKrkEU2udW"
      },
      "execution_count": null,
      "outputs": []
    },
    {
      "cell_type": "code",
      "source": [
        "print(models)"
      ],
      "metadata": {
        "colab": {
          "base_uri": "https://localhost:8080/"
        },
        "id": "jXDX_NWifgNG",
        "outputId": "a32db557-366a-49f9-d846-922e020e7cdf"
      },
      "execution_count": null,
      "outputs": [
        {
          "output_type": "stream",
          "name": "stdout",
          "text": [
            "[(places: [ p_10, p_12, p_13, p_14, p_15, p_16, p_19, p_20, p_23, p_24, p_25, p_27, p_28, p_29, p_3, p_31, p_32, p_4, p_5, p_6, p_7, p_8, p_9, sink, source ]\n",
            "transitions: [ (024318eb-a350-411d-a638-f069b05f1069, 'firefoxPopulate text field in window'), (10da3ee0-37f9-4d86-b085-3e5161648ad7, 'ShellExperienceHostClick UI element in window'), (1ae85f41-0c6b-42c6-8d27-ac1eaed22fa0, 'msedgePopulate text field in window'), (2ee79cd6-6bbd-4bb5-854a-e97a95532750, 'chromeSelect tab in window'), (3e7f3155-4498-4b7d-bb70-5d5a48815201, 'chromeSelect menu option in window'), (51438e1a-881b-463f-b7b2-bef79846f275, 'msedgeClick UI element in window'), (582e75e0-5e09-45c2-a328-485dfebb7b07, 'Press button in window'), (5c11d18e-161a-42af-af68-8a200fad23f1, 'firefoxPress button in window'), (6f306cf1-b998-4dcf-8536-50dcb7f9c380, 'firefoxClick UI element in window'), (6f690303-4ad1-431a-a4e7-2a3b5468bc85, 'chromeClick UI element in window'), (73a14945-d547-401c-a5e7-992082616aa8, 'chromePress button in window'), (80777ce9-1e99-4f7b-87af-f229b02aaa44, 'OUTLOOKSelect menu option in window'), (84cc4691-c298-49dc-b345-1c56e0ddd7f1, 'OUTLOOKPress button in window'), (8c0b84f3-bcf3-4319-8eb9-192aa3593938, 'msedgePress button in window'), (8dab8b7a-a237-4763-aaf9-7415f0551915, 'Send keys'), (a9d235c0-1cd7-4fb2-a1a2-0feb3e71ff63, 'chromePopulate text field in window'), (b9899541-2544-4fd3-a2f3-037d8cfe115b, 'msedgeSelect menu option in window'), (bf9014b1-6d95-491a-a615-f5ecba551cbb, 'OUTLOOKClick UI element in window'), (e23256de-a276-425d-904a-133ba031005e, 'Click UI element in window'), (init_loop_10, None), (init_loop_12, None), (init_loop_16, None), (init_loop_26, None), (init_loop_31, None), (init_loop_5, None), (skip_14, None), (skip_15, None), (skip_18, None), (skip_19, None), (skip_2, None), (skip_20, None), (skip_23, None), (skip_24, None), (skip_25, None), (skip_28, None), (skip_29, None), (skip_3, None), (skip_30, None), (skip_33, None), (skip_34, None), (skip_4, None), (skip_7, None), (skip_8, None), (skip_9, None), (tau_1, None) ]\n",
            "arcs: [ (024318eb-a350-411d-a638-f069b05f1069, 'firefoxPopulate text field in window')->p_4, (10da3ee0-37f9-4d86-b085-3e5161648ad7, 'ShellExperienceHostClick UI element in window')->p_3, (1ae85f41-0c6b-42c6-8d27-ac1eaed22fa0, 'msedgePopulate text field in window')->p_10, (2ee79cd6-6bbd-4bb5-854a-e97a95532750, 'chromeSelect tab in window')->p_4, (3e7f3155-4498-4b7d-bb70-5d5a48815201, 'chromeSelect menu option in window')->p_20, (51438e1a-881b-463f-b7b2-bef79846f275, 'msedgeClick UI element in window')->p_29, (582e75e0-5e09-45c2-a328-485dfebb7b07, 'Press button in window')->p_24, (5c11d18e-161a-42af-af68-8a200fad23f1, 'firefoxPress button in window')->p_5, (6f306cf1-b998-4dcf-8536-50dcb7f9c380, 'firefoxClick UI element in window')->p_32, (6f690303-4ad1-431a-a4e7-2a3b5468bc85, 'chromeClick UI element in window')->p_29, (73a14945-d547-401c-a5e7-992082616aa8, 'chromePress button in window')->p_16, (80777ce9-1e99-4f7b-87af-f229b02aaa44, 'OUTLOOKSelect menu option in window')->p_6, (84cc4691-c298-49dc-b345-1c56e0ddd7f1, 'OUTLOOKPress button in window')->p_25, (8c0b84f3-bcf3-4319-8eb9-192aa3593938, 'msedgePress button in window')->p_7, (8dab8b7a-a237-4763-aaf9-7415f0551915, 'Send keys')->p_29, (a9d235c0-1cd7-4fb2-a1a2-0feb3e71ff63, 'chromePopulate text field in window')->p_6, (b9899541-2544-4fd3-a2f3-037d8cfe115b, 'msedgeSelect menu option in window')->p_8, (bf9014b1-6d95-491a-a615-f5ecba551cbb, 'OUTLOOKClick UI element in window')->p_29, (e23256de-a276-425d-904a-133ba031005e, 'Click UI element in window')->p_4, (init_loop_10, None)->p_13, (init_loop_12, None)->p_15, (init_loop_16, None)->p_19, (init_loop_26, None)->p_28, (init_loop_31, None)->p_31, (init_loop_5, None)->p_9, (skip_14, None)->p_15, (skip_15, None)->p_14, (skip_18, None)->p_19, (skip_19, None)->p_13, (skip_2, None)->p_4, (skip_20, None)->p_12, (skip_23, None)->p_24, (skip_24, None)->p_23, (skip_25, None)->p_6, (skip_28, None)->p_28, (skip_29, None)->p_27, (skip_3, None)->p_8, (skip_30, None)->p_3, (skip_33, None)->p_31, (skip_34, None)->p_3, (skip_4, None)->p_6, (skip_7, None)->p_9, (skip_8, None)->p_6, (skip_9, None)->p_12, (tau_1, None)->sink, p_10->(skip_7, None), p_10->(skip_8, None), p_12->(582e75e0-5e09-45c2-a328-485dfebb7b07, 'Press button in window'), p_13->(init_loop_12, None), p_14->(init_loop_16, None), p_14->(skip_20, None), p_15->(73a14945-d547-401c-a5e7-992082616aa8, 'chromePress button in window'), p_16->(skip_14, None), p_16->(skip_15, None), p_19->(3e7f3155-4498-4b7d-bb70-5d5a48815201, 'chromeSelect menu option in window'), p_20->(skip_18, None), p_20->(skip_19, None), p_23->(80777ce9-1e99-4f7b-87af-f229b02aaa44, 'OUTLOOKSelect menu option in window'), p_23->(skip_25, None), p_24->(84cc4691-c298-49dc-b345-1c56e0ddd7f1, 'OUTLOOKPress button in window'), p_25->(skip_23, None), p_25->(skip_24, None), p_27->(10da3ee0-37f9-4d86-b085-3e5161648ad7, 'ShellExperienceHostClick UI element in window'), p_27->(init_loop_31, None), p_27->(skip_30, None), p_28->(51438e1a-881b-463f-b7b2-bef79846f275, 'msedgeClick UI element in window'), p_28->(6f690303-4ad1-431a-a4e7-2a3b5468bc85, 'chromeClick UI element in window'), p_28->(8dab8b7a-a237-4763-aaf9-7415f0551915, 'Send keys'), p_28->(bf9014b1-6d95-491a-a615-f5ecba551cbb, 'OUTLOOKClick UI element in window'), p_29->(skip_28, None), p_29->(skip_29, None), p_3->(tau_1, None), p_31->(6f306cf1-b998-4dcf-8536-50dcb7f9c380, 'firefoxClick UI element in window'), p_32->(skip_33, None), p_32->(skip_34, None), p_4->(8c0b84f3-bcf3-4319-8eb9-192aa3593938, 'msedgePress button in window'), p_4->(a9d235c0-1cd7-4fb2-a1a2-0feb3e71ff63, 'chromePopulate text field in window'), p_4->(init_loop_10, None), p_4->(skip_9, None), p_5->(024318eb-a350-411d-a638-f069b05f1069, 'firefoxPopulate text field in window'), p_6->(init_loop_26, None), p_7->(b9899541-2544-4fd3-a2f3-037d8cfe115b, 'msedgeSelect menu option in window'), p_7->(skip_3, None), p_8->(init_loop_5, None), p_8->(skip_4, None), p_9->(1ae85f41-0c6b-42c6-8d27-ac1eaed22fa0, 'msedgePopulate text field in window'), source->(2ee79cd6-6bbd-4bb5-854a-e97a95532750, 'chromeSelect tab in window'), source->(5c11d18e-161a-42af-af68-8a200fad23f1, 'firefoxPress button in window'), source->(e23256de-a276-425d-904a-133ba031005e, 'Click UI element in window'), source->(skip_2, None) ], ['source:1'], ['sink:1']), (places: [ p_10, p_11, p_12, p_15, p_16, p_17, p_18, p_19, p_20, p_24, p_25, p_27, p_28, p_29, p_3, p_30, p_33, p_34, p_36, p_37, p_38, p_4, p_40, p_41, p_43, p_44, p_48, p_49, p_5, p_54, p_55, p_57, p_58, p_6, p_7, p_8, p_9, sink, source ]\n",
            "transitions: [ (098aea41-2d3f-4ba4-9163-77a8f1deac02, 'chromeClick UI element in window'), (19132db7-dcf7-4714-a519-a06ed6d04711, 'msedgePopulate text field in window'), (1b02d6b3-9650-4bc0-9ab0-14f96ad5097f, 'Press button in window'), (45a50373-9c3d-4851-b90d-01eef67e1637, 'Send keys'), (6217edb0-44ae-41ba-bf41-59c711c63017, 'firefoxPopulate text field in window'), (7f47501e-a223-4b08-ab24-2dbbe6fdaf2d, 'firefoxSelect menu option in window'), (94395629-f954-4db8-8afe-3549f6d5d3e2, 'Click UI element in window'), (a8425371-f4ad-42b0-842c-227ec070b159, 'msedgePress button in window'), (af1a03bc-06c5-42f8-93e7-75a835a521a3, 'firefoxPress button in window'), (c2a21ead-4e57-4ae4-9de2-2317dec7bbf5, 'chromePopulate text field in window'), (c7b8f5a1-daba-43c8-a3a4-4d1ea606541a, 'chromeSelect menu option in window'), (d2d97ed9-90ee-4cf2-a578-b5e2cd8d132e, 'firefoxClick UI element in window'), (dc18ec51-40e5-475f-b1c8-df8c17b264ed, 'msedgeClick UI element in window'), (e7745133-4c1a-4edd-a0ad-111b467acc99, 'Select menu option in window'), (ee4df419-2e04-442e-b056-7288c9d98cd3, 'chromePress button in window'), (init_loop_15, None), (init_loop_24, None), (init_loop_26, None), (init_loop_30, None), (init_loop_35, None), (init_loop_39, None), (init_loop_41, None), (init_loop_8, None), (skip_10, None), (skip_11, None), (skip_14, None), (skip_17, None), (skip_18, None), (skip_21, None), (skip_23, None), (skip_28, None), (skip_29, None), (skip_3, None), (skip_32, None), (skip_33, None), (skip_34, None), (skip_37, None), (skip_38, None), (skip_43, None), (skip_44, None), (skip_45, None), (skip_50, None), (skip_54, None), (skip_55, None), (skip_58, None), (skip_6, None), (skip_7, None), (tauJoin_13, None), (tauJoin_47, None), (tauJoin_5, None), (tauSplit_4, None), (tauSplit_46, None), (tau_1, None), (tau_2, None) ]\n",
            "arcs: [ (098aea41-2d3f-4ba4-9163-77a8f1deac02, 'chromeClick UI element in window')->p_49, (19132db7-dcf7-4714-a519-a06ed6d04711, 'msedgePopulate text field in window')->p_34, (1b02d6b3-9650-4bc0-9ab0-14f96ad5097f, 'Press button in window')->p_5, (45a50373-9c3d-4851-b90d-01eef67e1637, 'Send keys')->p_20, (6217edb0-44ae-41ba-bf41-59c711c63017, 'firefoxPopulate text field in window')->p_8, (7f47501e-a223-4b08-ab24-2dbbe6fdaf2d, 'firefoxSelect menu option in window')->p_44, (94395629-f954-4db8-8afe-3549f6d5d3e2, 'Click UI element in window')->p_25, (a8425371-f4ad-42b0-842c-227ec070b159, 'msedgePress button in window')->p_30, (af1a03bc-06c5-42f8-93e7-75a835a521a3, 'firefoxPress button in window')->p_36, (c2a21ead-4e57-4ae4-9de2-2317dec7bbf5, 'chromePopulate text field in window')->p_55, (c7b8f5a1-daba-43c8-a3a4-4d1ea606541a, 'chromeSelect menu option in window')->p_38, (d2d97ed9-90ee-4cf2-a578-b5e2cd8d132e, 'firefoxClick UI element in window')->p_41, (dc18ec51-40e5-475f-b1c8-df8c17b264ed, 'msedgeClick UI element in window')->p_12, (e7745133-4c1a-4edd-a0ad-111b467acc99, 'Select menu option in window')->p_6, (ee4df419-2e04-442e-b056-7288c9d98cd3, 'chromePress button in window')->p_58, (init_loop_15, None)->p_19, (init_loop_24, None)->p_27, (init_loop_26, None)->p_29, (init_loop_30, None)->p_33, (init_loop_35, None)->p_37, (init_loop_39, None)->p_40, (init_loop_41, None)->p_43, (init_loop_8, None)->p_11, (skip_10, None)->p_11, (skip_11, None)->p_10, (skip_14, None)->p_18, (skip_17, None)->p_19, (skip_18, None)->p_18, (skip_21, None)->p_24, (skip_23, None)->p_15, (skip_28, None)->p_29, (skip_29, None)->p_28, (skip_3, None)->p_6, (skip_32, None)->p_33, (skip_33, None)->p_27, (skip_34, None)->p_15, (skip_37, None)->p_37, (skip_38, None)->p_36, (skip_43, None)->p_43, (skip_44, None)->p_40, (skip_45, None)->p_4, (skip_50, None)->p_48, (skip_54, None)->p_54, (skip_55, None)->p_57, (skip_58, None)->p_57, (skip_6, None)->p_8, (skip_7, None)->p_10, (tauJoin_13, None)->p_16, (tauJoin_47, None)->p_4, (tauJoin_5, None)->p_5, (tauSplit_4, None)->p_17, (tauSplit_4, None)->p_24, (tauSplit_4, None)->p_7, (tauSplit_4, None)->p_9, (tauSplit_46, None)->p_48, (tauSplit_46, None)->p_54, (tau_1, None)->p_3, (tau_2, None)->sink, p_10->(tauJoin_5, None), p_11->(dc18ec51-40e5-475f-b1c8-df8c17b264ed, 'msedgeClick UI element in window'), p_12->(skip_10, None), p_12->(skip_11, None), p_15->(tauJoin_5, None), p_16->(init_loop_24, None), p_16->(skip_23, None), p_17->(init_loop_15, None), p_17->(skip_14, None), p_18->(tauJoin_13, None), p_19->(45a50373-9c3d-4851-b90d-01eef67e1637, 'Send keys'), p_20->(skip_17, None), p_20->(skip_18, None), p_24->(94395629-f954-4db8-8afe-3549f6d5d3e2, 'Click UI element in window'), p_25->(skip_21, None), p_25->(tauJoin_13, None), p_27->(init_loop_26, None), p_28->(init_loop_30, None), p_28->(skip_34, None), p_29->(a8425371-f4ad-42b0-842c-227ec070b159, 'msedgePress button in window'), p_3->(1b02d6b3-9650-4bc0-9ab0-14f96ad5097f, 'Press button in window'), p_3->(e7745133-4c1a-4edd-a0ad-111b467acc99, 'Select menu option in window'), p_3->(skip_3, None), p_30->(skip_28, None), p_30->(skip_29, None), p_33->(19132db7-dcf7-4714-a519-a06ed6d04711, 'msedgePopulate text field in window'), p_34->(skip_32, None), p_34->(skip_33, None), p_36->(init_loop_39, None), p_36->(tauSplit_46, None), p_37->(c7b8f5a1-daba-43c8-a3a4-4d1ea606541a, 'chromeSelect menu option in window'), p_38->(skip_37, None), p_38->(skip_38, None), p_4->(tau_2, None), p_40->(d2d97ed9-90ee-4cf2-a578-b5e2cd8d132e, 'firefoxClick UI element in window'), p_41->(init_loop_41, None), p_41->(skip_45, None), p_43->(7f47501e-a223-4b08-ab24-2dbbe6fdaf2d, 'firefoxSelect menu option in window'), p_44->(skip_43, None), p_44->(skip_44, None), p_48->(098aea41-2d3f-4ba4-9163-77a8f1deac02, 'chromeClick UI element in window'), p_49->(skip_50, None), p_49->(tauJoin_47, None), p_5->(af1a03bc-06c5-42f8-93e7-75a835a521a3, 'firefoxPress button in window'), p_5->(init_loop_35, None), p_54->(c2a21ead-4e57-4ae4-9de2-2317dec7bbf5, 'chromePopulate text field in window'), p_55->(skip_54, None), p_55->(skip_55, None), p_57->(ee4df419-2e04-442e-b056-7288c9d98cd3, 'chromePress button in window'), p_58->(skip_58, None), p_58->(tauJoin_47, None), p_6->(tauSplit_4, None), p_7->(6217edb0-44ae-41ba-bf41-59c711c63017, 'firefoxPopulate text field in window'), p_7->(skip_6, None), p_8->(tauJoin_5, None), p_9->(init_loop_8, None), p_9->(skip_7, None), source->(tau_1, None) ], ['source:1'], ['sink:1']), (places: [ p_10, p_11, p_12, p_13, p_15, p_16, p_17, p_18, p_19, p_20, p_24, p_25, p_26, p_27, p_3, p_32, p_33, p_37, p_38, p_4, p_40, p_41, p_42, p_44, p_45, p_46, p_48, p_49, p_5, p_51, p_52, p_53, p_54, p_55, p_57, p_6, p_60, p_61, p_63, p_64, p_65, p_67, p_68, p_7, p_8, p_9, sink, source ]\n",
            "transitions: [ (0f5bee8d-2a4e-41cc-84df-8d08fa215459, 'Send keys'), (13fe57af-c627-4d84-a628-973cbb3a907d, 'TeamsDrag and drop UI element in window'), (28915df0-9eb2-479e-940c-0975ddf61e6a, 'firefoxSelect menu option in window'), (2b197270-2ffb-4b18-9d97-28cf391ff610, 'msedgeClick UI element in window'), (33874780-2825-4c1c-8315-db8eb0ea3b89, 'msedgeSelect tab in window'), (4ac28b1d-463a-4121-8b2e-8929dfe0daf7, 'TeamsPopulate text field in window'), (50eefc41-77fd-4b0d-8d1f-6910eae54aa5, 'chromeClick UI element in window'), (605137d9-f48e-4d88-8ca1-a6021336acd2, 'chromeSelect menu option in window'), (60fa7e39-2425-4634-9361-f66759354a00, 'TeamsSelect menu option in window'), (6eb1005e-2378-48a0-8d47-ee978442b4bc, 'firefoxClick UI element in window'), (6ff95b2d-153e-466c-8bac-85d3569ad536, 'msedgePress button in window'), (7102ea8b-0f67-4e66-b285-6e7818f34154, 'TeamsClick UI element in window'), (7b65126d-8ba4-4316-8538-a693269ea051, 'firefoxSelect tab in window'), (84514188-a4e9-4d68-8d53-5208da11e6bf, 'chromeDrag and drop UI element in window'), (8cd1e322-ba5e-47c2-9a6b-b149c198197e, 'TeamsPress button in window'), (9fcc48e4-dace-48e5-b199-92a9319700e7, 'msedgePopulate text field in window'), (abb61e5c-5c07-4060-94a3-d23f9a26ec16, 'chromePress button in window'), (b64461f2-64f4-4b65-8947-1967cb2a11fd, 'chromePopulate text field in window'), (b677c1f0-4704-4775-bd41-ec0a418d3642, 'Click UI element in window'), (ca23e7a6-5411-40f9-a444-5ced719e8d32, 'Comment'), (cc773f0a-ceff-483c-ab9f-61ad633bb9e7, 'firefoxPopulate text field in window'), (dafeb1b0-5789-48ce-aa36-c27c63a4b599, 'Press button in window'), (ddbf7abe-a9a4-4f1d-89bf-e9bfeb66757f, 'Select menu option in window'), (e4e9481a-03ec-4470-be42-907ae6ffdd88, 'firefoxPress button in window'), (f840f517-1752-4b4b-af8c-5925aeb3be60, 'TeamsSelect tab in window'), (fd3c8f82-4a8e-4249-a99b-08dba5ef701c, 'msedgeSelect menu option in window'), (init_loop_14, None), (init_loop_20, None), (init_loop_36, None), (init_loop_41, None), (init_loop_46, None), (init_loop_51, None), (init_loop_54, None), (init_loop_6, None), (init_loop_61, None), (init_loop_70, None), (skip_10, None), (skip_13, None), (skip_16, None), (skip_17, None), (skip_2, None), (skip_22, None), (skip_23, None), (skip_28, None), (skip_3, None), (skip_32, None), (skip_35, None), (skip_38, None), (skip_39, None), (skip_4, None), (skip_40, None), (skip_43, None), (skip_44, None), (skip_45, None), (skip_48, None), (skip_49, None), (skip_5, None), (skip_50, None), (skip_53, None), (skip_56, None), (skip_57, None), (skip_58, None), (skip_59, None), (skip_60, None), (skip_63, None), (skip_64, None), (skip_67, None), (skip_68, None), (skip_69, None), (skip_72, None), (skip_73, None), (skip_8, None), (skip_9, None), (tauJoin_12, None), (tauJoin_25, None), (tauSplit_11, None), (tauSplit_24, None), (tau_1, None) ]\n",
            "arcs: [ (0f5bee8d-2a4e-41cc-84df-8d08fa215459, 'Send keys')->p_25, (13fe57af-c627-4d84-a628-973cbb3a907d, 'TeamsDrag and drop UI element in window')->p_5, (28915df0-9eb2-479e-940c-0975ddf61e6a, 'firefoxSelect menu option in window')->p_20, (2b197270-2ffb-4b18-9d97-28cf391ff610, 'msedgeClick UI element in window')->p_57, (33874780-2825-4c1c-8315-db8eb0ea3b89, 'msedgeSelect tab in window')->p_11, (4ac28b1d-463a-4121-8b2e-8929dfe0daf7, 'TeamsPopulate text field in window')->p_61, (50eefc41-77fd-4b0d-8d1f-6910eae54aa5, 'chromeClick UI element in window')->p_68, (605137d9-f48e-4d88-8ca1-a6021336acd2, 'chromeSelect menu option in window')->p_42, (60fa7e39-2425-4634-9361-f66759354a00, 'TeamsSelect menu option in window')->p_61, (6eb1005e-2378-48a0-8d47-ee978442b4bc, 'firefoxClick UI element in window')->p_33, (6ff95b2d-153e-466c-8bac-85d3569ad536, 'msedgePress button in window')->p_55, (7102ea8b-0f67-4e66-b285-6e7818f34154, 'TeamsClick UI element in window')->p_65, (7b65126d-8ba4-4316-8538-a693269ea051, 'firefoxSelect tab in window')->p_15, (84514188-a4e9-4d68-8d53-5208da11e6bf, 'chromeDrag and drop UI element in window')->p_10, (8cd1e322-ba5e-47c2-9a6b-b149c198197e, 'TeamsPress button in window')->p_61, (9fcc48e4-dace-48e5-b199-92a9319700e7, 'msedgePopulate text field in window')->p_52, (abb61e5c-5c07-4060-94a3-d23f9a26ec16, 'chromePress button in window')->p_49, (b64461f2-64f4-4b65-8947-1967cb2a11fd, 'chromePopulate text field in window')->p_46, (b677c1f0-4704-4775-bd41-ec0a418d3642, 'Click UI element in window')->p_9, (ca23e7a6-5411-40f9-a444-5ced719e8d32, 'Comment')->p_4, (cc773f0a-ceff-483c-ab9f-61ad633bb9e7, 'firefoxPopulate text field in window')->p_38, (dafeb1b0-5789-48ce-aa36-c27c63a4b599, 'Press button in window')->p_6, (ddbf7abe-a9a4-4f1d-89bf-e9bfeb66757f, 'Select menu option in window')->p_8, (e4e9481a-03ec-4470-be42-907ae6ffdd88, 'firefoxPress button in window')->p_27, (f840f517-1752-4b4b-af8c-5925aeb3be60, 'TeamsSelect tab in window')->p_7, (fd3c8f82-4a8e-4249-a99b-08dba5ef701c, 'msedgeSelect menu option in window')->p_13, (init_loop_14, None)->p_19, (init_loop_20, None)->p_26, (init_loop_36, None)->p_41, (init_loop_41, None)->p_45, (init_loop_46, None)->p_48, (init_loop_51, None)->p_51, (init_loop_54, None)->p_54, (init_loop_6, None)->p_12, (init_loop_61, None)->p_60, (init_loop_70, None)->p_67, (skip_10, None)->p_15, (skip_13, None)->p_18, (skip_16, None)->p_19, (skip_17, None)->p_18, (skip_2, None)->p_4, (skip_22, None)->p_26, (skip_23, None)->p_25, (skip_28, None)->p_32, (skip_3, None)->p_5, (skip_32, None)->p_37, (skip_35, None)->p_40, (skip_38, None)->p_41, (skip_39, None)->p_40, (skip_4, None)->p_5, (skip_40, None)->p_44, (skip_43, None)->p_45, (skip_44, None)->p_44, (skip_45, None)->p_11, (skip_48, None)->p_48, (skip_49, None)->p_11, (skip_5, None)->p_10, (skip_50, None)->p_7, (skip_53, None)->p_53, (skip_56, None)->p_54, (skip_57, None)->p_53, (skip_58, None)->p_52, (skip_59, None)->p_51, (skip_60, None)->p_7, (skip_63, None)->p_60, (skip_64, None)->p_64, (skip_67, None)->p_64, (skip_68, None)->p_63, (skip_69, None)->p_3, (skip_72, None)->p_67, (skip_73, None)->p_3, (skip_8, None)->p_12, (skip_9, None)->p_11, (tauJoin_12, None)->p_16, (tauJoin_25, None)->p_24, (tauSplit_11, None)->p_17, (tauSplit_11, None)->p_24, (tauSplit_24, None)->p_32, (tauSplit_24, None)->p_37, (tau_1, None)->sink, p_10->(33874780-2825-4c1c-8315-db8eb0ea3b89, 'msedgeSelect tab in window'), p_10->(7b65126d-8ba4-4316-8538-a693269ea051, 'firefoxSelect tab in window'), p_10->(init_loop_6, None), p_10->(skip_10, None), p_11->(init_loop_51, None), p_11->(skip_50, None), p_12->(fd3c8f82-4a8e-4249-a99b-08dba5ef701c, 'msedgeSelect menu option in window'), p_13->(skip_8, None), p_13->(skip_9, None), p_15->(tauSplit_11, None), p_16->(init_loop_36, None), p_16->(skip_35, None), p_17->(init_loop_14, None), p_17->(skip_13, None), p_18->(tauJoin_12, None), p_19->(28915df0-9eb2-479e-940c-0975ddf61e6a, 'firefoxSelect menu option in window'), p_20->(skip_16, None), p_20->(skip_17, None), p_24->(0f5bee8d-2a4e-41cc-84df-8d08fa215459, 'Send keys'), p_24->(init_loop_20, None), p_25->(tauJoin_12, None), p_25->(tauSplit_24, None), p_26->(e4e9481a-03ec-4470-be42-907ae6ffdd88, 'firefoxPress button in window'), p_27->(skip_22, None), p_27->(skip_23, None), p_3->(tau_1, None), p_32->(6eb1005e-2378-48a0-8d47-ee978442b4bc, 'firefoxClick UI element in window'), p_33->(skip_28, None), p_33->(tauJoin_25, None), p_37->(cc773f0a-ceff-483c-ab9f-61ad633bb9e7, 'firefoxPopulate text field in window'), p_38->(skip_32, None), p_38->(tauJoin_25, None), p_4->(dafeb1b0-5789-48ce-aa36-c27c63a4b599, 'Press button in window'), p_4->(skip_3, None), p_40->(init_loop_41, None), p_40->(skip_40, None), p_41->(605137d9-f48e-4d88-8ca1-a6021336acd2, 'chromeSelect menu option in window'), p_42->(skip_38, None), p_42->(skip_39, None), p_44->(init_loop_46, None), p_44->(skip_45, None), p_45->(b64461f2-64f4-4b65-8947-1967cb2a11fd, 'chromePopulate text field in window'), p_46->(skip_43, None), p_46->(skip_44, None), p_48->(abb61e5c-5c07-4060-94a3-d23f9a26ec16, 'chromePress button in window'), p_49->(skip_48, None), p_49->(skip_49, None), p_5->(ddbf7abe-a9a4-4f1d-89bf-e9bfeb66757f, 'Select menu option in window'), p_5->(f840f517-1752-4b4b-af8c-5925aeb3be60, 'TeamsSelect tab in window'), p_51->(init_loop_54, None), p_51->(skip_53, None), p_52->(skip_59, None), p_52->(skip_60, None), p_53->(2b197270-2ffb-4b18-9d97-28cf391ff610, 'msedgeClick UI element in window'), p_54->(6ff95b2d-153e-466c-8bac-85d3569ad536, 'msedgePress button in window'), p_55->(skip_56, None), p_55->(skip_57, None), p_57->(9fcc48e4-dace-48e5-b199-92a9319700e7, 'msedgePopulate text field in window'), p_57->(skip_58, None), p_6->(13fe57af-c627-4d84-a628-973cbb3a907d, 'TeamsDrag and drop UI element in window'), p_6->(skip_4, None), p_60->(4ac28b1d-463a-4121-8b2e-8929dfe0daf7, 'TeamsPopulate text field in window'), p_60->(60fa7e39-2425-4634-9361-f66759354a00, 'TeamsSelect menu option in window'), p_60->(8cd1e322-ba5e-47c2-9a6b-b149c198197e, 'TeamsPress button in window'), p_61->(skip_63, None), p_61->(skip_64, None), p_63->(init_loop_70, None), p_63->(skip_69, None), p_64->(7102ea8b-0f67-4e66-b285-6e7818f34154, 'TeamsClick UI element in window'), p_65->(skip_67, None), p_65->(skip_68, None), p_67->(50eefc41-77fd-4b0d-8d1f-6910eae54aa5, 'chromeClick UI element in window'), p_68->(skip_72, None), p_68->(skip_73, None), p_7->(init_loop_61, None), p_8->(b677c1f0-4704-4775-bd41-ec0a418d3642, 'Click UI element in window'), p_9->(84514188-a4e9-4d68-8d53-5208da11e6bf, 'chromeDrag and drop UI element in window'), p_9->(skip_5, None), source->(ca23e7a6-5411-40f9-a444-5ced719e8d32, 'Comment'), source->(skip_2, None) ], ['source:1'], ['sink:1']), (places: [ p_12, p_13, p_15, p_16, p_17, p_20, p_21, p_25, p_26, p_3, p_30, p_31, p_33, p_36, p_37, p_39, p_4, p_40, p_41, p_42, p_43, p_45, p_46, p_51, p_52, p_56, p_57, p_59, p_60, p_61, p_63, p_64, p_65, p_67, p_68, p_7, p_70, p_71, p_72, p_74, p_8, sink, source ]\n",
            "transitions: [ (0b5a0e5c-ee23-4fac-b869-8814b0fdd611, 'TeamsPress button in window'), (0f87db47-c887-46a7-b891-376034b666a4, 'chromePress button in window'), (121e0cbd-69b6-4062-b267-81c4992be215, 'msedgeClick UI element in window'), (1d288562-5e41-44e6-abfe-f673f8132e69, 'ApplicationFrameHostPopulate text field in window'), (2473a66a-0634-4fc6-83da-08093ace8d4d, 'msedgePress button in window'), (255527a2-f021-4aa8-bbad-f5b0867e40fe, 'Select menu option in window'), (261a602d-c73d-4d81-9b27-ef43fb044368, 'ApplicationFrameHostClick UI element in window'), (2e53d07b-a1da-44d0-85d9-5957aa2a3c31, 'firefoxPress button in window'), (4449d6ec-003d-4734-ae7f-18a1ad1fb052, 'ApplicationFrameHostPress button in window'), (4580029b-52cd-4218-9a4c-e7a7b5816303, 'chromePopulate text field in window'), (53984ac1-a000-4638-9e50-a743b8d57cfe, 'msedgeSelect menu option in window'), (556c8b6f-e64f-41e7-a117-11406d05e5e9, 'Click UI element in window'), (6119ec03-e73a-4553-bb1a-bcd5c339cc87, 'msedgePopulate text field in window'), (7ee19094-bdfc-4351-ac6d-9d6205e7ab97, 'msedgeDrag and drop UI element in window'), (99b183fc-f1f0-4c6e-a81c-b15d5094649b, 'explorerClick UI element in window'), (ad7c42fa-dcd4-4e3a-9737-eb86a693cc6d, 'msedgeSelect tab in window'), (afd5d17b-ea11-419d-a557-4a69980ace41, 'Send keys'), (b548a130-4ecc-4baa-b86c-9654d611ed1d, 'firefoxPopulate text field in window'), (ce90c499-f23e-45d9-a3ec-8110e9310834, 'TeamsClick UI element in window'), (d3603452-468b-4739-8274-ffbe65d31675, 'Press button in window'), (d640a491-ac1e-4aa6-9ea3-fdf9281246d9, 'TeamsPopulate text field in window'), (e096e9ce-990d-4361-aa6d-793da4834fc6, 'firefoxClick UI element in window'), (ed1fa862-8c36-4f8e-af59-f379ff38b5e6, 'chromeClick UI element in window'), (init_loop_37, None), (init_loop_56, None), (init_loop_61, None), (init_loop_65, None), (init_loop_70, None), (skip_11, None), (skip_13, None), (skip_14, None), (skip_19, None), (skip_2, None), (skip_23, None), (skip_27, None), (skip_29, None), (skip_34, None), (skip_36, None), (skip_41, None), (skip_42, None), (skip_43, None), (skip_44, None), (skip_49, None), (skip_53, None), (skip_55, None), (skip_58, None), (skip_59, None), (skip_60, None), (skip_63, None), (skip_64, None), (skip_67, None), (skip_68, None), (skip_69, None), (skip_7, None), (skip_72, None), (skip_73, None), (skip_74, None), (tauJoin_16, None), (tauJoin_31, None), (tauJoin_4, None), (tauJoin_46, None), (tauSplit_15, None), (tauSplit_3, None), (tauSplit_30, None), (tauSplit_45, None), (tau_1, None) ]\n",
            "arcs: [ (0b5a0e5c-ee23-4fac-b869-8814b0fdd611, 'TeamsPress button in window')->p_72, (0f87db47-c887-46a7-b891-376034b666a4, 'chromePress button in window')->p_52, (121e0cbd-69b6-4062-b267-81c4992be215, 'msedgeClick UI element in window')->p_26, (1d288562-5e41-44e6-abfe-f673f8132e69, 'ApplicationFrameHostPopulate text field in window')->p_70, (2473a66a-0634-4fc6-83da-08093ace8d4d, 'msedgePress button in window')->p_21, (255527a2-f021-4aa8-bbad-f5b0867e40fe, 'Select menu option in window')->p_8, (261a602d-c73d-4d81-9b27-ef43fb044368, 'ApplicationFrameHostClick UI element in window')->p_74, (2e53d07b-a1da-44d0-85d9-5957aa2a3c31, 'firefoxPress button in window')->p_41, (4449d6ec-003d-4734-ae7f-18a1ad1fb052, 'ApplicationFrameHostPress button in window')->sink, (4580029b-52cd-4218-9a4c-e7a7b5816303, 'chromePopulate text field in window')->p_57, (53984ac1-a000-4638-9e50-a743b8d57cfe, 'msedgeSelect menu option in window')->p_16, (556c8b6f-e64f-41e7-a117-11406d05e5e9, 'Click UI element in window')->p_13, (6119ec03-e73a-4553-bb1a-bcd5c339cc87, 'msedgePopulate text field in window')->p_31, (7ee19094-bdfc-4351-ac6d-9d6205e7ab97, 'msedgeDrag and drop UI element in window')->p_16, (99b183fc-f1f0-4c6e-a81c-b15d5094649b, 'explorerClick UI element in window')->p_65, (ad7c42fa-dcd4-4e3a-9737-eb86a693cc6d, 'msedgeSelect tab in window')->p_63, (afd5d17b-ea11-419d-a557-4a69980ace41, 'Send keys')->p_36, (b548a130-4ecc-4baa-b86c-9654d611ed1d, 'firefoxPopulate text field in window')->p_45, (ce90c499-f23e-45d9-a3ec-8110e9310834, 'TeamsClick UI element in window')->p_68, (d3603452-468b-4739-8274-ffbe65d31675, 'Press button in window')->p_15, (d640a491-ac1e-4aa6-9ea3-fdf9281246d9, 'TeamsPopulate text field in window')->p_71, (e096e9ce-990d-4361-aa6d-793da4834fc6, 'firefoxClick UI element in window')->p_46, (ed1fa862-8c36-4f8e-af59-f379ff38b5e6, 'chromeClick UI element in window')->p_61, (init_loop_37, None)->p_42, (init_loop_56, None)->p_60, (init_loop_61, None)->p_64, (init_loop_65, None)->p_67, (init_loop_70, None)->p_71, (skip_11, None)->p_12, (skip_13, None)->p_15, (skip_14, None)->p_16, (skip_19, None)->p_20, (skip_2, None)->p_4, (skip_23, None)->p_25, (skip_27, None)->p_30, (skip_29, None)->p_15, (skip_34, None)->p_37, (skip_36, None)->p_41, (skip_41, None)->p_45, (skip_42, None)->p_43, (skip_43, None)->p_42, (skip_44, None)->p_40, (skip_49, None)->p_51, (skip_53, None)->p_56, (skip_55, None)->p_59, (skip_58, None)->p_60, (skip_59, None)->p_59, (skip_60, None)->p_63, (skip_63, None)->p_64, (skip_64, None)->p_63, (skip_67, None)->p_67, (skip_68, None)->p_63, (skip_69, None)->p_70, (skip_7, None)->p_7, (skip_72, None)->p_70, (skip_73, None)->p_74, (skip_74, None)->sink, (tauJoin_16, None)->p_17, (tauJoin_31, None)->p_33, (tauJoin_4, None)->p_4, (tauJoin_46, None)->p_40, (tauSplit_15, None)->p_20, (tauSplit_15, None)->p_25, (tauSplit_15, None)->p_30, (tauSplit_3, None)->p_12, (tauSplit_3, None)->p_7, (tauSplit_30, None)->p_36, (tauSplit_30, None)->p_39, (tauSplit_45, None)->p_51, (tauSplit_45, None)->p_56, (tau_1, None)->p_3, p_12->(556c8b6f-e64f-41e7-a117-11406d05e5e9, 'Click UI element in window'), p_13->(skip_11, None), p_13->(tauJoin_4, None), p_15->(tauSplit_30, None), p_16->(tauSplit_15, None), p_17->(d3603452-468b-4739-8274-ffbe65d31675, 'Press button in window'), p_17->(skip_29, None), p_20->(2473a66a-0634-4fc6-83da-08093ace8d4d, 'msedgePress button in window'), p_21->(skip_19, None), p_21->(tauJoin_16, None), p_25->(121e0cbd-69b6-4062-b267-81c4992be215, 'msedgeClick UI element in window'), p_26->(skip_23, None), p_26->(tauJoin_16, None), p_3->(skip_2, None), p_3->(tauSplit_3, None), p_30->(6119ec03-e73a-4553-bb1a-bcd5c339cc87, 'msedgePopulate text field in window'), p_31->(skip_27, None), p_31->(tauJoin_16, None), p_33->(init_loop_56, None), p_33->(skip_55, None), p_36->(skip_34, None), p_37->(afd5d17b-ea11-419d-a557-4a69980ace41, 'Send keys'), p_37->(tauJoin_31, None), p_39->(2e53d07b-a1da-44d0-85d9-5957aa2a3c31, 'firefoxPress button in window'), p_39->(skip_36, None), p_39->(tauSplit_45, None), p_4->(53984ac1-a000-4638-9e50-a743b8d57cfe, 'msedgeSelect menu option in window'), p_4->(7ee19094-bdfc-4351-ac6d-9d6205e7ab97, 'msedgeDrag and drop UI element in window'), p_4->(skip_13, None), p_4->(skip_14, None), p_40->(tauJoin_31, None), p_41->(init_loop_37, None), p_42->(b548a130-4ecc-4baa-b86c-9654d611ed1d, 'firefoxPopulate text field in window'), p_43->(skip_43, None), p_43->(skip_44, None), p_45->(e096e9ce-990d-4361-aa6d-793da4834fc6, 'firefoxClick UI element in window'), p_46->(skip_41, None), p_46->(skip_42, None), p_51->(0f87db47-c887-46a7-b891-376034b666a4, 'chromePress button in window'), p_52->(skip_49, None), p_52->(tauJoin_46, None), p_56->(4580029b-52cd-4218-9a4c-e7a7b5816303, 'chromePopulate text field in window'), p_57->(skip_53, None), p_57->(tauJoin_46, None), p_59->(ad7c42fa-dcd4-4e3a-9737-eb86a693cc6d, 'msedgeSelect tab in window'), p_59->(init_loop_61, None), p_59->(init_loop_65, None), p_59->(skip_60, None), p_60->(ed1fa862-8c36-4f8e-af59-f379ff38b5e6, 'chromeClick UI element in window'), p_61->(skip_58, None), p_61->(skip_59, None), p_63->(1d288562-5e41-44e6-abfe-f673f8132e69, 'ApplicationFrameHostPopulate text field in window'), p_63->(init_loop_70, None), p_63->(skip_69, None), p_64->(99b183fc-f1f0-4c6e-a81c-b15d5094649b, 'explorerClick UI element in window'), p_65->(skip_63, None), p_65->(skip_64, None), p_67->(ce90c499-f23e-45d9-a3ec-8110e9310834, 'TeamsClick UI element in window'), p_68->(skip_67, None), p_68->(skip_68, None), p_7->(255527a2-f021-4aa8-bbad-f5b0867e40fe, 'Select menu option in window'), p_70->(261a602d-c73d-4d81-9b27-ef43fb044368, 'ApplicationFrameHostClick UI element in window'), p_70->(skip_73, None), p_71->(0b5a0e5c-ee23-4fac-b869-8814b0fdd611, 'TeamsPress button in window'), p_72->(d640a491-ac1e-4aa6-9ea3-fdf9281246d9, 'TeamsPopulate text field in window'), p_72->(skip_72, None), p_74->(4449d6ec-003d-4734-ae7f-18a1ad1fb052, 'ApplicationFrameHostPress button in window'), p_74->(skip_74, None), p_8->(skip_7, None), p_8->(tauJoin_4, None), source->(tau_1, None) ], ['source:1'], ['sink:1']), (places: [ p_10, p_12, p_13, p_14, p_15, p_16, p_18, p_19, p_20, p_21, p_23, p_24, p_26, p_27, p_3, p_30, p_31, p_32, p_4, p_5, p_6, p_8, p_9, sink, source ]\n",
            "transitions: [ (07470694-b319-4d57-b088-e34cddfb0d24, 'ONENOTESelect menu option in window'), (0aa3bb19-31e2-4be4-a2c9-8095c7e8bcb2, 'chromePress button in window'), (10a4ab26-1758-4c50-8cea-1224e70607d2, 'chromePopulate text field in window'), (22f41a0e-7fd0-4df2-a8dd-38f9368618a4, 'ONENOTEDrag and drop UI element in window'), (249cd8a8-53e4-4219-891e-2e4dbc0ca896, 'Select menu option in window'), (2ff46aa6-f1a9-4891-b489-b58a24db1784, 'ONENOTEClick UI element in window'), (30ddb6e4-bd6b-4c99-a74f-734554a6e98f, 'Click UI element in window'), (43fd03bc-49ff-402e-aa26-543b7f5ccf0a, 'msedgeClick UI element in window'), (5a8d2af1-6bbd-4534-a399-2289e9183fe5, 'ONENOTEPress button in window'), (72cf77da-cde4-48c1-ba64-00de672b2044, 'Send keys'), (7f93a1a3-0941-4b62-a011-3a8758513f1d, 'msedgePopulate text field in window'), (9ee37601-aa65-4b5b-9da9-23d0d20e48e8, 'msedgeSelect tab in window'), (a6605f01-be86-468b-a970-d2d42bc370fb, 'SearchAppClick UI element in window'), (b05e2b5a-0d15-4911-beff-8de06654fe1d, 'msedgePress button in window'), (c332a675-dae6-4716-bbf9-39680104dedd, 'SearchAppPopulate text field in window'), (c4e3412b-9519-44a4-ac3e-3612b08ab9ba, 'chromeClick UI element in window'), (cfdc5181-fe54-4f77-aed9-aa65c169412d, 'Press button in window'), (init_loop_13, None), (init_loop_15, None), (init_loop_20, None), (init_loop_27, None), (init_loop_9, None), (skip_11, None), (skip_12, None), (skip_17, None), (skip_19, None), (skip_22, None), (skip_23, None), (skip_24, None), (skip_25, None), (skip_26, None), (skip_29, None), (skip_3, None), (skip_30, None), (skip_31, None), (skip_4, None), (skip_5, None), (skip_6, None), (skip_7, None), (skip_8, None) ]\n",
            "arcs: [ (07470694-b319-4d57-b088-e34cddfb0d24, 'ONENOTESelect menu option in window')->sink, (0aa3bb19-31e2-4be4-a2c9-8095c7e8bcb2, 'chromePress button in window')->p_12, (10a4ab26-1758-4c50-8cea-1224e70607d2, 'chromePopulate text field in window')->p_13, (22f41a0e-7fd0-4df2-a8dd-38f9368618a4, 'ONENOTEDrag and drop UI element in window')->p_3, (249cd8a8-53e4-4219-891e-2e4dbc0ca896, 'Select menu option in window')->p_3, (2ff46aa6-f1a9-4891-b489-b58a24db1784, 'ONENOTEClick UI element in window')->p_16, (30ddb6e4-bd6b-4c99-a74f-734554a6e98f, 'Click UI element in window')->p_4, (43fd03bc-49ff-402e-aa26-543b7f5ccf0a, 'msedgeClick UI element in window')->p_24, (5a8d2af1-6bbd-4534-a399-2289e9183fe5, 'ONENOTEPress button in window')->p_10, (72cf77da-cde4-48c1-ba64-00de672b2044, 'Send keys')->p_21, (7f93a1a3-0941-4b62-a011-3a8758513f1d, 'msedgePopulate text field in window')->p_27, (9ee37601-aa65-4b5b-9da9-23d0d20e48e8, 'msedgeSelect tab in window')->p_3, (a6605f01-be86-468b-a970-d2d42bc370fb, 'SearchAppClick UI element in window')->p_9, (b05e2b5a-0d15-4911-beff-8de06654fe1d, 'msedgePress button in window')->p_21, (c332a675-dae6-4716-bbf9-39680104dedd, 'SearchAppPopulate text field in window')->p_6, (c4e3412b-9519-44a4-ac3e-3612b08ab9ba, 'chromeClick UI element in window')->p_32, (cfdc5181-fe54-4f77-aed9-aa65c169412d, 'Press button in window')->p_5, (init_loop_13, None)->p_19, (init_loop_15, None)->p_23, (init_loop_20, None)->p_26, (init_loop_27, None)->p_31, (init_loop_9, None)->p_15, (skip_11, None)->p_15, (skip_12, None)->p_14, (skip_17, None)->p_23, (skip_19, None)->p_20, (skip_22, None)->p_26, (skip_23, None)->p_20, (skip_24, None)->p_19, (skip_25, None)->p_18, (skip_26, None)->p_30, (skip_29, None)->p_31, (skip_3, None)->p_9, (skip_30, None)->p_30, (skip_31, None)->sink, (skip_4, None)->p_8, (skip_5, None)->p_3, (skip_6, None)->p_12, (skip_7, None)->p_13, (skip_8, None)->p_14, p_10->(skip_3, None), p_10->(skip_4, None), p_12->(10a4ab26-1758-4c50-8cea-1224e70607d2, 'chromePopulate text field in window'), p_12->(skip_7, None), p_13->(init_loop_9, None), p_13->(skip_8, None), p_14->(init_loop_13, None), p_15->(2ff46aa6-f1a9-4891-b489-b58a24db1784, 'ONENOTEClick UI element in window'), p_16->(skip_11, None), p_16->(skip_12, None), p_18->(init_loop_27, None), p_18->(skip_26, None), p_19->(72cf77da-cde4-48c1-ba64-00de672b2044, 'Send keys'), p_19->(init_loop_15, None), p_20->(skip_24, None), p_20->(skip_25, None), p_21->(init_loop_20, None), p_21->(skip_19, None), p_23->(43fd03bc-49ff-402e-aa26-543b7f5ccf0a, 'msedgeClick UI element in window'), p_24->(b05e2b5a-0d15-4911-beff-8de06654fe1d, 'msedgePress button in window'), p_24->(skip_17, None), p_26->(7f93a1a3-0941-4b62-a011-3a8758513f1d, 'msedgePopulate text field in window'), p_27->(skip_22, None), p_27->(skip_23, None), p_3->(0aa3bb19-31e2-4be4-a2c9-8095c7e8bcb2, 'chromePress button in window'), p_3->(skip_6, None), p_30->(07470694-b319-4d57-b088-e34cddfb0d24, 'ONENOTESelect menu option in window'), p_30->(skip_31, None), p_31->(c4e3412b-9519-44a4-ac3e-3612b08ab9ba, 'chromeClick UI element in window'), p_32->(skip_29, None), p_32->(skip_30, None), p_4->(9ee37601-aa65-4b5b-9da9-23d0d20e48e8, 'msedgeSelect tab in window'), p_5->(c332a675-dae6-4716-bbf9-39680104dedd, 'SearchAppPopulate text field in window'), p_6->(a6605f01-be86-468b-a970-d2d42bc370fb, 'SearchAppClick UI element in window'), p_8->(22f41a0e-7fd0-4df2-a8dd-38f9368618a4, 'ONENOTEDrag and drop UI element in window'), p_8->(skip_5, None), p_9->(5a8d2af1-6bbd-4534-a399-2289e9183fe5, 'ONENOTEPress button in window'), source->(249cd8a8-53e4-4219-891e-2e4dbc0ca896, 'Select menu option in window'), source->(30ddb6e4-bd6b-4c99-a74f-734554a6e98f, 'Click UI element in window'), source->(cfdc5181-fe54-4f77-aed9-aa65c169412d, 'Press button in window') ], ['source:1'], ['sink:1']), (places: [ p_10, p_11, p_12, p_13, p_15, p_16, p_17, p_18, p_19, p_20, p_21, p_24, p_25, p_26, p_27, p_28, p_29, p_3, p_30, p_33, p_34, p_35, p_36, p_38, p_4, p_40, p_41, p_42, p_43, p_44, p_46, p_47, p_5, p_50, p_51, p_53, p_54, p_55, p_56, p_59, p_6, p_60, p_62, p_63, p_65, p_66, p_67, p_7, p_8, sink, source ]\n",
            "transitions: [ (089a08b8-7bf3-4e48-bc45-e1cdd8012dcb, 'msedgeClick UI element in window'), (10ed177a-4556-4a8a-9c17-852d35659a23, 'firefoxPopulate text field in window'), (2d8d2ed8-dd52-41e6-a821-fff707d588dc, 'ApplicationFrameHostClick UI element in window'), (360652cb-0297-41db-a4df-0ecccff29b91, 'OUTLOOKClick UI element in window'), (3b290bda-010f-4210-8994-7aa6518f6907, 'firefoxPress button in window'), (4996d57c-a454-4192-9fa8-b4dbbc186f4a, 'msedgePress button in window'), (4f01b051-49f2-4800-bcdf-3634628e207c, 'OUTLOOKPopulate text field in window'), (61676d92-d158-4502-95a4-43dd9006f6ed, 'firefoxClick UI element in window'), (6d584b0f-aa99-4958-ab4f-f4f394f5c520, 'firefoxSelect tab in window'), (780d0601-d3d7-40bf-b246-666ac2e7d0f9, 'Send keys'), (81a2ee99-c598-4dd0-ade1-7f99def0e87c, 'ApplicationFrameHostPress button in window'), (833ba05a-5199-49ce-95d8-01074a55c7c2, 'chromeDrag and drop UI element in window'), (855d0568-2724-4e70-8d59-8e0f73661fbe, 'Click UI element in window'), (8e79f379-06de-4785-a4ad-fe5f3dce1379, 'Press button in window'), (99d22f39-c6c9-4389-bd7d-cb1dac4764f3, 'chromePress button in window'), (9d47c175-5d79-442d-a508-0b014acf1685, 'chromePopulate text field in window'), (ace682be-4239-432a-937b-3aa183154251, 'msedgePopulate text field in window'), (b547abf1-3587-4023-86fd-99ad8dc3e5a0, 'chromeClick UI element in window'), (b8040f3f-afc8-49ea-8ddf-e1c0707bdc66, 'OUTLOOKSelect tab in window'), (c8cc2104-81f6-4f7c-8f96-92e7996c274a, 'OUTLOOKPress button in window'), (cd844b9b-684f-4454-9c49-0a2ad859239c, 'chromeSelect tab in window'), (d625f347-b816-4c11-961f-0ccb41b3e176, 'ApplicationFrameHostPopulate text field in window'), (ee0fec8c-138c-46aa-b1e0-80481506e99e, 'SearchAppPopulate text field in window'), (eea4e1d6-08d6-44a6-b82c-183b24eaf1c5, 'SearchAppClick UI element in window'), (f7fae210-4f87-4a6c-8834-c5f08701be92, 'msedgeSelect menu option in window'), (fb4e358d-317b-48f3-91a7-765075969888, 'Select menu option in window'), (init_loop_13, None), (init_loop_20, None), (init_loop_24, None), (init_loop_3, None), (init_loop_33, None), (init_loop_41, None), (init_loop_50, None), (init_loop_54, None), (init_loop_63, None), (skip_1, None), (skip_10, None), (skip_15, None), (skip_16, None), (skip_17, None), (skip_18, None), (skip_19, None), (skip_2, None), (skip_22, None), (skip_23, None), (skip_26, None), (skip_27, None), (skip_28, None), (skip_29, None), (skip_32, None), (skip_35, None), (skip_36, None), (skip_37, None), (skip_40, None), (skip_43, None), (skip_44, None), (skip_45, None), (skip_48, None), (skip_5, None), (skip_52, None), (skip_53, None), (skip_56, None), (skip_57, None), (skip_6, None), (skip_60, None), (skip_61, None), (skip_62, None), (skip_65, None), (skip_66, None), (skip_67, None), (skip_9, None), (tauJoin_31, None), (tauJoin_8, None), (tauSplit_30, None), (tauSplit_38, None), (tauSplit_7, None) ]\n",
            "arcs: [ (089a08b8-7bf3-4e48-bc45-e1cdd8012dcb, 'msedgeClick UI element in window')->p_63, (10ed177a-4556-4a8a-9c17-852d35659a23, 'firefoxPopulate text field in window')->p_40, (2d8d2ed8-dd52-41e6-a821-fff707d588dc, 'ApplicationFrameHostClick UI element in window')->p_28, (360652cb-0297-41db-a4df-0ecccff29b91, 'OUTLOOKClick UI element in window')->p_11, (3b290bda-010f-4210-8994-7aa6518f6907, 'firefoxPress button in window')->p_36, (4996d57c-a454-4192-9fa8-b4dbbc186f4a, 'msedgePress button in window')->p_44, (4f01b051-49f2-4800-bcdf-3634628e207c, 'OUTLOOKPopulate text field in window')->p_20, (61676d92-d158-4502-95a4-43dd9006f6ed, 'firefoxClick UI element in window')->p_56, (6d584b0f-aa99-4958-ab4f-f4f394f5c520, 'firefoxSelect tab in window')->sink, (780d0601-d3d7-40bf-b246-666ac2e7d0f9, 'Send keys')->p_51, (81a2ee99-c598-4dd0-ade1-7f99def0e87c, 'ApplicationFrameHostPress button in window')->p_30, (833ba05a-5199-49ce-95d8-01074a55c7c2, 'chromeDrag and drop UI element in window')->p_3, (855d0568-2724-4e70-8d59-8e0f73661fbe, 'Click UI element in window')->p_3, (8e79f379-06de-4785-a4ad-fe5f3dce1379, 'Press button in window')->p_21, (99d22f39-c6c9-4389-bd7d-cb1dac4764f3, 'chromePress button in window')->p_5, (9d47c175-5d79-442d-a508-0b014acf1685, 'chromePopulate text field in window')->p_8, (ace682be-4239-432a-937b-3aa183154251, 'msedgePopulate text field in window')->p_60, (b547abf1-3587-4023-86fd-99ad8dc3e5a0, 'chromeClick UI element in window')->p_67, (b8040f3f-afc8-49ea-8ddf-e1c0707bdc66, 'OUTLOOKSelect tab in window')->p_5, (c8cc2104-81f6-4f7c-8f96-92e7996c274a, 'OUTLOOKPress button in window')->p_13, (cd844b9b-684f-4454-9c49-0a2ad859239c, 'chromeSelect tab in window')->p_26, (d625f347-b816-4c11-961f-0ccb41b3e176, 'ApplicationFrameHostPopulate text field in window')->p_27, (ee0fec8c-138c-46aa-b1e0-80481506e99e, 'SearchAppPopulate text field in window')->p_18, (eea4e1d6-08d6-44a6-b82c-183b24eaf1c5, 'SearchAppClick UI element in window')->p_15, (f7fae210-4f87-4a6c-8834-c5f08701be92, 'msedgeSelect menu option in window')->p_47, (fb4e358d-317b-48f3-91a7-765075969888, 'Select menu option in window')->p_4, (init_loop_13, None)->p_20, (init_loop_20, None)->p_25, (init_loop_24, None)->p_29, (init_loop_3, None)->p_7, (init_loop_33, None)->p_35, (init_loop_41, None)->p_43, (init_loop_50, None)->p_55, (init_loop_54, None)->p_59, (init_loop_63, None)->p_66, (skip_1, None)->p_3, (skip_10, None)->p_13, (skip_15, None)->p_19, (skip_16, None)->p_18, (skip_17, None)->p_17, (skip_18, None)->p_16, (skip_19, None)->p_15, (skip_2, None)->p_5, (skip_22, None)->p_27, (skip_23, None)->p_26, (skip_26, None)->p_29, (skip_27, None)->p_26, (skip_28, None)->p_25, (skip_29, None)->p_24, (skip_32, None)->p_34, (skip_35, None)->p_35, (skip_36, None)->p_34, (skip_37, None)->p_40, (skip_40, None)->p_42, (skip_43, None)->p_43, (skip_44, None)->p_42, (skip_45, None)->p_47, (skip_48, None)->p_50, (skip_5, None)->p_7, (skip_52, None)->p_55, (skip_53, None)->p_54, (skip_56, None)->p_59, (skip_57, None)->p_62, (skip_6, None)->p_6, (skip_60, None)->p_62, (skip_61, None)->p_54, (skip_62, None)->p_65, (skip_65, None)->p_66, (skip_66, None)->p_65, (skip_67, None)->sink, (skip_9, None)->p_11, (tauJoin_31, None)->p_24, (tauJoin_8, None)->p_6, (tauSplit_30, None)->p_33, (tauSplit_30, None)->p_38, (tauSplit_38, None)->p_41, (tauSplit_38, None)->p_46, (tauSplit_38, None)->p_50, (tauSplit_38, None)->p_53, (tauSplit_7, None)->p_10, (tauSplit_7, None)->p_12, (tauSplit_7, None)->p_17, p_10->(360652cb-0297-41db-a4df-0ecccff29b91, 'OUTLOOKClick UI element in window'), p_10->(skip_9, None), p_11->(tauJoin_8, None), p_12->(c8cc2104-81f6-4f7c-8f96-92e7996c274a, 'OUTLOOKPress button in window'), p_12->(skip_10, None), p_13->(tauJoin_8, None), p_15->(tauJoin_8, None), p_16->(eea4e1d6-08d6-44a6-b82c-183b24eaf1c5, 'SearchAppClick UI element in window'), p_16->(skip_19, None), p_17->(init_loop_13, None), p_18->(skip_17, None), p_18->(skip_18, None), p_19->(ee0fec8c-138c-46aa-b1e0-80481506e99e, 'SearchAppPopulate text field in window'), p_19->(skip_16, None), p_20->(8e79f379-06de-4785-a4ad-fe5f3dce1379, 'Press button in window'), p_21->(4f01b051-49f2-4800-bcdf-3634628e207c, 'OUTLOOKPopulate text field in window'), p_21->(skip_15, None), p_24->(init_loop_63, None), p_24->(skip_62, None), p_25->(cd844b9b-684f-4454-9c49-0a2ad859239c, 'chromeSelect tab in window'), p_25->(d625f347-b816-4c11-961f-0ccb41b3e176, 'ApplicationFrameHostPopulate text field in window'), p_25->(skip_22, None), p_26->(skip_28, None), p_26->(skip_29, None), p_27->(2d8d2ed8-dd52-41e6-a821-fff707d588dc, 'ApplicationFrameHostClick UI element in window'), p_28->(init_loop_24, None), p_28->(skip_23, None), p_29->(81a2ee99-c598-4dd0-ade1-7f99def0e87c, 'ApplicationFrameHostPress button in window'), p_3->(99d22f39-c6c9-4389-bd7d-cb1dac4764f3, 'chromePress button in window'), p_3->(b8040f3f-afc8-49ea-8ddf-e1c0707bdc66, 'OUTLOOKSelect tab in window'), p_3->(skip_2, None), p_30->(skip_26, None), p_30->(skip_27, None), p_33->(init_loop_33, None), p_33->(skip_32, None), p_34->(tauJoin_31, None), p_35->(3b290bda-010f-4210-8994-7aa6518f6907, 'firefoxPress button in window'), p_36->(skip_35, None), p_36->(skip_36, None), p_38->(10ed177a-4556-4a8a-9c17-852d35659a23, 'firefoxPopulate text field in window'), p_38->(skip_37, None), p_4->(855d0568-2724-4e70-8d59-8e0f73661fbe, 'Click UI element in window'), p_40->(tauSplit_38, None), p_41->(init_loop_41, None), p_41->(skip_40, None), p_42->(tauJoin_31, None), p_43->(4996d57c-a454-4192-9fa8-b4dbbc186f4a, 'msedgePress button in window'), p_44->(skip_43, None), p_44->(skip_44, None), p_46->(f7fae210-4f87-4a6c-8834-c5f08701be92, 'msedgeSelect menu option in window'), p_46->(skip_45, None), p_47->(tauJoin_31, None), p_5->(init_loop_3, None), p_5->(tauSplit_7, None), p_50->(780d0601-d3d7-40bf-b246-666ac2e7d0f9, 'Send keys'), p_51->(skip_48, None), p_51->(tauJoin_31, None), p_53->(init_loop_50, None), p_53->(init_loop_54, None), p_54->(tauJoin_31, None), p_55->(61676d92-d158-4502-95a4-43dd9006f6ed, 'firefoxClick UI element in window'), p_56->(skip_52, None), p_56->(skip_53, None), p_59->(ace682be-4239-432a-937b-3aa183154251, 'msedgePopulate text field in window'), p_6->(init_loop_20, None), p_6->(tauSplit_30, None), p_60->(skip_56, None), p_60->(skip_57, None), p_62->(089a08b8-7bf3-4e48-bc45-e1cdd8012dcb, 'msedgeClick UI element in window'), p_63->(skip_60, None), p_63->(skip_61, None), p_65->(6d584b0f-aa99-4958-ab4f-f4f394f5c520, 'firefoxSelect tab in window'), p_65->(skip_67, None), p_66->(b547abf1-3587-4023-86fd-99ad8dc3e5a0, 'chromeClick UI element in window'), p_67->(skip_65, None), p_67->(skip_66, None), p_7->(9d47c175-5d79-442d-a508-0b014acf1685, 'chromePopulate text field in window'), p_8->(skip_5, None), p_8->(skip_6, None), source->(833ba05a-5199-49ce-95d8-01074a55c7c2, 'chromeDrag and drop UI element in window'), source->(fb4e358d-317b-48f3-91a7-765075969888, 'Select menu option in window'), source->(skip_1, None) ], ['source:1'], ['sink:1']), (places: [ p_10, p_11, p_13, p_14, p_16, p_17, p_18, p_19, p_20, p_24, p_25, p_29, p_3, p_30, p_34, p_35, p_36, p_39, p_4, p_40, p_44, p_45, p_48, p_49, p_5, p_50, p_51, p_53, p_54, p_6, p_7, p_8, sink, source ]\n",
            "transitions: [ (211c1553-89c5-4121-a28a-3f7672e1a0a9, 'TeamsPopulate text field in window'), (24f3a6b9-1314-4ec5-b308-f9ae772b5fb5, 'TeamsClick UI element in window'), (3a75948a-f5fe-4542-a737-13ea707e2b68, 'chromeClick UI element in window'), (3eb383e1-47e6-486b-8b69-9645a72c3bef, 'firefoxClick UI element in window'), (46130266-09af-470c-9fdd-5ce8c36d740e, 'chromePress button in window'), (5f6ebea4-640e-4465-96a1-308146580f86, 'EXCELPopulate text field in window'), (69956c90-de2a-4474-86a1-608620e74fe1, 'Select menu option in window'), (6f2b8653-c23c-4c7f-85b0-4eac3c60ec33, 'EXCELSelect tab in window'), (71eba83b-92df-468c-8f8d-eeb0e0f33faa, 'Press button in window'), (7f914efd-2a02-4839-8840-4ab5665fe041, 'firefoxPress button in window'), (8700159b-5c13-4c70-892a-a223726fd606, 'TeamsPress button in window'), (af2b325d-5ef4-463c-a279-2edf528f00f2, 'chromePopulate text field in window'), (bf4b17d7-ac18-44ec-ac79-37d3ad3dde37, 'EXCELSet drop-down list value in window'), (c41a533b-9548-4788-8ab2-2a2a0948bca5, 'Send keys'), (c824780b-7989-4d08-a940-63d077fa9361, 'firefoxPopulate text field in window'), (ce30eb4a-e7d9-49ff-88a2-f9d9be5d56aa, 'firefoxSelect menu option in window'), (d4c90385-ebcb-4390-8511-fa9c5ab89789, 'Click UI element in window'), (d77240f3-cc3b-4cf2-aeea-8ba8d680a95b, 'TeamsSelect menu option in window'), (f7459320-6572-4231-8e84-8b12d2c3a59a, 'EXCELPress button in window'), (init_loop_14, None), (init_loop_16, None), (init_loop_33, None), (init_loop_4, None), (init_loop_47, None), (init_loop_49, None), (loop_48, None), (skip_11, None), (skip_12, None), (skip_13, None), (skip_2, None), (skip_22, None), (skip_26, None), (skip_28, None), (skip_29, None), (skip_3, None), (skip_30, None), (skip_31, None), (skip_32, None), (skip_39, None), (skip_43, None), (skip_45, None), (skip_46, None), (skip_51, None), (skip_52, None), (skip_53, None), (skip_54, None), (skip_6, None), (skip_7, None), (skip_8, None), (tauJoin_19, None), (tauJoin_36, None), (tauSplit_35, None), (tau_1, None) ]\n",
            "arcs: [ (211c1553-89c5-4121-a28a-3f7672e1a0a9, 'TeamsPopulate text field in window')->p_25, (24f3a6b9-1314-4ec5-b308-f9ae772b5fb5, 'TeamsClick UI element in window')->p_30, (3a75948a-f5fe-4542-a737-13ea707e2b68, 'chromeClick UI element in window')->p_45, (3eb383e1-47e6-486b-8b69-9645a72c3bef, 'firefoxClick UI element in window')->p_14, (46130266-09af-470c-9fdd-5ce8c36d740e, 'chromePress button in window')->p_40, (5f6ebea4-640e-4465-96a1-308146580f86, 'EXCELPopulate text field in window')->p_54, (69956c90-de2a-4474-86a1-608620e74fe1, 'Select menu option in window')->p_4, (6f2b8653-c23c-4c7f-85b0-4eac3c60ec33, 'EXCELSelect tab in window')->p_53, (71eba83b-92df-468c-8f8d-eeb0e0f33faa, 'Press button in window')->p_5, (7f914efd-2a02-4839-8840-4ab5665fe041, 'firefoxPress button in window')->p_10, (8700159b-5c13-4c70-892a-a223726fd606, 'TeamsPress button in window')->p_24, (8700159b-5c13-4c70-892a-a223726fd606, 'TeamsPress button in window')->p_29, (af2b325d-5ef4-463c-a279-2edf528f00f2, 'chromePopulate text field in window')->p_35, (bf4b17d7-ac18-44ec-ac79-37d3ad3dde37, 'EXCELSet drop-down list value in window')->p_53, (c41a533b-9548-4788-8ab2-2a2a0948bca5, 'Send keys')->p_13, (c824780b-7989-4d08-a940-63d077fa9361, 'firefoxPopulate text field in window')->p_11, (ce30eb4a-e7d9-49ff-88a2-f9d9be5d56aa, 'firefoxSelect menu option in window')->p_5, (d4c90385-ebcb-4390-8511-fa9c5ab89789, 'Click UI element in window')->p_5, (d77240f3-cc3b-4cf2-aeea-8ba8d680a95b, 'TeamsSelect menu option in window')->p_8, (f7459320-6572-4231-8e84-8b12d2c3a59a, 'EXCELPress button in window')->p_51, (init_loop_14, None)->p_17, (init_loop_16, None)->p_19, (init_loop_33, None)->p_35, (init_loop_4, None)->p_7, (init_loop_47, None)->p_48, (init_loop_49, None)->p_50, (loop_48, None)->p_48, (skip_11, None)->p_13, (skip_12, None)->p_6, (skip_13, None)->p_16, (skip_2, None)->p_4, (skip_22, None)->p_24, (skip_26, None)->p_29, (skip_28, None)->p_19, (skip_29, None)->p_18, (skip_3, None)->p_6, (skip_30, None)->p_17, (skip_31, None)->p_16, (skip_32, None)->p_34, (skip_39, None)->p_39, (skip_43, None)->p_44, (skip_45, None)->p_34, (skip_46, None)->p_3, (skip_51, None)->p_50, (skip_52, None)->p_49, (skip_53, None)->p_54, (skip_54, None)->p_3, (skip_6, None)->p_7, (skip_7, None)->p_6, (skip_8, None)->p_10, (tauJoin_19, None)->p_20, (tauJoin_36, None)->p_36, (tauSplit_35, None)->p_39, (tauSplit_35, None)->p_44, (tau_1, None)->sink, p_10->(c824780b-7989-4d08-a940-63d077fa9361, 'firefoxPopulate text field in window'), p_11->(c41a533b-9548-4788-8ab2-2a2a0948bca5, 'Send keys'), p_13->(3eb383e1-47e6-486b-8b69-9645a72c3bef, 'firefoxClick UI element in window'), p_14->(skip_11, None), p_14->(skip_12, None), p_16->(init_loop_33, None), p_16->(skip_32, None), p_17->(init_loop_16, None), p_18->(skip_30, None), p_18->(skip_31, None), p_19->(8700159b-5c13-4c70-892a-a223726fd606, 'TeamsPress button in window'), p_20->(skip_28, None), p_20->(skip_29, None), p_24->(211c1553-89c5-4121-a28a-3f7672e1a0a9, 'TeamsPopulate text field in window'), p_25->(skip_22, None), p_25->(tauJoin_19, None), p_29->(24f3a6b9-1314-4ec5-b308-f9ae772b5fb5, 'TeamsClick UI element in window'), p_3->(tau_1, None), p_30->(skip_26, None), p_30->(tauJoin_19, None), p_34->(init_loop_47, None), p_34->(skip_46, None), p_35->(tauSplit_35, None), p_36->(af2b325d-5ef4-463c-a279-2edf528f00f2, 'chromePopulate text field in window'), p_36->(skip_45, None), p_39->(46130266-09af-470c-9fdd-5ce8c36d740e, 'chromePress button in window'), p_4->(71eba83b-92df-468c-8f8d-eeb0e0f33faa, 'Press button in window'), p_4->(ce30eb4a-e7d9-49ff-88a2-f9d9be5d56aa, 'firefoxSelect menu option in window'), p_4->(d4c90385-ebcb-4390-8511-fa9c5ab89789, 'Click UI element in window'), p_40->(skip_39, None), p_40->(tauJoin_36, None), p_44->(3a75948a-f5fe-4542-a737-13ea707e2b68, 'chromeClick UI element in window'), p_45->(skip_43, None), p_45->(tauJoin_36, None), p_48->(init_loop_49, None), p_49->(5f6ebea4-640e-4465-96a1-308146580f86, 'EXCELPopulate text field in window'), p_49->(6f2b8653-c23c-4c7f-85b0-4eac3c60ec33, 'EXCELSelect tab in window'), p_49->(skip_53, None), p_49->(skip_54, None), p_5->(7f914efd-2a02-4839-8840-4ab5665fe041, 'firefoxPress button in window'), p_5->(init_loop_4, None), p_5->(skip_3, None), p_5->(skip_8, None), p_50->(f7459320-6572-4231-8e84-8b12d2c3a59a, 'EXCELPress button in window'), p_51->(skip_51, None), p_51->(skip_52, None), p_53->(loop_48, None), p_54->(bf4b17d7-ac18-44ec-ac79-37d3ad3dde37, 'EXCELSet drop-down list value in window'), p_6->(init_loop_14, None), p_6->(skip_13, None), p_7->(d77240f3-cc3b-4cf2-aeea-8ba8d680a95b, 'TeamsSelect menu option in window'), p_8->(skip_6, None), p_8->(skip_7, None), source->(69956c90-de2a-4474-86a1-608620e74fe1, 'Select menu option in window'), source->(skip_2, None) ], ['source:1'], ['sink:1']), (places: [ p_11, p_12, p_13, p_14, p_15, p_17, p_18, p_20, p_21, p_22, p_23, p_25, p_26, p_27, p_29, p_3, p_30, p_31, p_4, p_5, p_6, p_7, p_8, p_9, sink, source ]\n",
            "transitions: [ (2692105a-200a-4d2f-beac-4892f85f9138, 'firefoxSelect tab in window'), (2c7f939f-a238-47bc-a886-8ff3717b5a63, 'Press button in window'), (3db9f155-9035-4492-8376-0c8fb507b9ef, 'chromeSelect radio button in window'), (49cefeac-17e0-4fae-b035-238e21940e3c, 'firefoxPopulate text field in window'), (49eabc58-1668-4089-8c7b-ac9743e0f72b, 'firefoxClick UI element in window'), (840d2b38-c7ec-46a8-82f9-872194c1680b, 'chromePopulate text field in window'), (929f3b5a-9d94-40df-9d0a-4b3e538b545a, 'firefoxSet drop-down list value in window'), (9a4503bb-4e45-4c2b-a182-0ec66516f843, 'chromeClick UI element in window'), (c3b8dcb6-3757-40d7-83b4-f016b2429885, 'firefoxDrag and drop UI element in window'), (cd2b0d48-0fb8-4123-a347-607016ec02a3, 'chromeDrag and drop UI element in window'), (df1751fc-0d08-4d72-ba82-799caff25422, 'chromeSelect menu option in window'), (f310cc16-e1b7-441d-acda-6a4e338f8ad1, 'chromePress button in window'), (f890b379-aaf4-428b-9a7c-ee03501949ed, 'firefoxPress button in window'), (init_loop_11, None), (init_loop_25, None), (init_loop_30, None), (init_loop_4, None), (init_loop_6, None), (loop_5, None), (skip_10, None), (skip_13, None), (skip_14, None), (skip_15, None), (skip_16, None), (skip_17, None), (skip_18, None), (skip_21, None), (skip_22, None), (skip_23, None), (skip_24, None), (skip_27, None), (skip_28, None), (skip_29, None), (skip_3, None), (skip_32, None), (skip_33, None), (skip_8, None), (skip_9, None), (tau_1, None), (tau_2, None) ]\n",
            "arcs: [ (2692105a-200a-4d2f-beac-4892f85f9138, 'firefoxSelect tab in window')->p_5, (2c7f939f-a238-47bc-a886-8ff3717b5a63, 'Press button in window')->p_18, (3db9f155-9035-4492-8376-0c8fb507b9ef, 'chromeSelect radio button in window')->p_29, (49cefeac-17e0-4fae-b035-238e21940e3c, 'firefoxPopulate text field in window')->p_11, (49eabc58-1668-4089-8c7b-ac9743e0f72b, 'firefoxClick UI element in window')->p_15, (840d2b38-c7ec-46a8-82f9-872194c1680b, 'chromePopulate text field in window')->p_27, (929f3b5a-9d94-40df-9d0a-4b3e538b545a, 'firefoxSet drop-down list value in window')->p_17, (9a4503bb-4e45-4c2b-a182-0ec66516f843, 'chromeClick UI element in window')->p_31, (c3b8dcb6-3757-40d7-83b4-f016b2429885, 'firefoxDrag and drop UI element in window')->p_12, (cd2b0d48-0fb8-4123-a347-607016ec02a3, 'chromeDrag and drop UI element in window')->p_22, (df1751fc-0d08-4d72-ba82-799caff25422, 'chromeSelect menu option in window')->p_21, (f310cc16-e1b7-441d-acda-6a4e338f8ad1, 'chromePress button in window')->p_23, (f890b379-aaf4-428b-9a7c-ee03501949ed, 'firefoxPress button in window')->p_9, (init_loop_11, None)->p_14, (init_loop_25, None)->p_26, (init_loop_30, None)->p_30, (init_loop_4, None)->p_6, (init_loop_6, None)->p_8, (loop_5, None)->p_6, (skip_10, None)->p_12, (skip_13, None)->p_14, (skip_14, None)->p_13, (skip_15, None)->p_17, (skip_16, None)->p_11, (skip_17, None)->p_4, (skip_18, None)->p_18, (skip_21, None)->p_22, (skip_22, None)->p_21, (skip_23, None)->p_20, (skip_24, None)->p_25, (skip_27, None)->p_26, (skip_28, None)->p_25, (skip_29, None)->p_29, (skip_3, None)->p_5, (skip_32, None)->p_30, (skip_33, None)->p_4, (skip_8, None)->p_8, (skip_9, None)->p_7, (tau_1, None)->p_3, (tau_2, None)->sink, p_11->(loop_5, None), p_12->(init_loop_11, None), p_13->(929f3b5a-9d94-40df-9d0a-4b3e538b545a, 'firefoxSet drop-down list value in window'), p_13->(skip_15, None), p_14->(49eabc58-1668-4089-8c7b-ac9743e0f72b, 'firefoxClick UI element in window'), p_15->(skip_13, None), p_15->(skip_14, None), p_17->(49cefeac-17e0-4fae-b035-238e21940e3c, 'firefoxPopulate text field in window'), p_17->(skip_16, None), p_18->(df1751fc-0d08-4d72-ba82-799caff25422, 'chromeSelect menu option in window'), p_20->(init_loop_25, None), p_20->(skip_24, None), p_21->(f310cc16-e1b7-441d-acda-6a4e338f8ad1, 'chromePress button in window'), p_22->(skip_22, None), p_22->(skip_23, None), p_23->(cd2b0d48-0fb8-4123-a347-607016ec02a3, 'chromeDrag and drop UI element in window'), p_23->(skip_21, None), p_25->(3db9f155-9035-4492-8376-0c8fb507b9ef, 'chromeSelect radio button in window'), p_25->(skip_29, None), p_26->(840d2b38-c7ec-46a8-82f9-872194c1680b, 'chromePopulate text field in window'), p_27->(skip_27, None), p_27->(skip_28, None), p_29->(init_loop_30, None), p_3->(2692105a-200a-4d2f-beac-4892f85f9138, 'firefoxSelect tab in window'), p_3->(2c7f939f-a238-47bc-a886-8ff3717b5a63, 'Press button in window'), p_3->(skip_18, None), p_3->(skip_3, None), p_30->(9a4503bb-4e45-4c2b-a182-0ec66516f843, 'chromeClick UI element in window'), p_31->(skip_32, None), p_31->(skip_33, None), p_4->(tau_2, None), p_5->(init_loop_4, None), p_6->(init_loop_6, None), p_7->(c3b8dcb6-3757-40d7-83b4-f016b2429885, 'firefoxDrag and drop UI element in window'), p_7->(skip_10, None), p_7->(skip_17, None), p_8->(f890b379-aaf4-428b-9a7c-ee03501949ed, 'firefoxPress button in window'), p_9->(skip_8, None), p_9->(skip_9, None), source->(tau_1, None) ], ['source:1'], ['sink:1']), (places: [ p_12, p_15, p_16, p_20, p_21, p_23, p_24, p_25, p_26, p_27, p_28, p_29, p_30, p_35, p_36, p_38, p_39, p_4, p_40, p_41, p_42, p_43, p_44, p_47, p_48, p_5, p_51, p_52, p_53, p_54, p_55, p_6, p_7, p_8, p_9, sink, source ]\n",
            "transitions: [ (01a928d7-8dca-4483-9d6a-7be7f91d7ebe, 'Send keys'), (0871810d-1654-420f-a7ca-159c59d3428b, 'OUTLOOKPress button in window'), (1650f8e7-dec1-4b72-bf27-8e113df2e209, 'chromePopulate text field in window'), (44e8745a-936c-480a-b415-c8e47014a361, 'firefoxClick UI element in window'), (47faac66-4981-4ed3-98f7-9e6996dd4602, 'chromePress button in window'), (5a3ee2ee-5cc4-4926-9b0f-0a15173c5c3a, 'Press button in window'), (7dd3f75e-d485-4992-8574-b385b67866d4, 'Click UI element in window'), (80680911-61c0-4d5c-8fea-7f6ea9bc7623, 'msedgePress button in window'), (8841afbe-a348-4570-96ff-2135e8bdc351, 'OUTLOOKPopulate text field in window'), (9dc0d948-8be2-4163-bcc3-571e5cec1678, 'msedgePopulate text field in window'), (a7728651-ff46-4b17-89c3-d42db58aa500, 'chromeClick UI element in window'), (af9ebd75-1578-47b7-952f-39ab0cc265ad, 'firefoxPress button in window'), (c75b4e39-7f7f-4ff2-aa71-f22835497c74, 'OUTLOOKClick UI element in window'), (d35db46b-bafa-42f6-b117-7cd4c996f8c7, 'firefoxPopulate text field in window'), (dcb019cb-e473-4c4d-8b17-c82a2de65aa5, 'OUTLOOKSelect tab in window'), (e59a9457-42d6-481c-a10b-1cdc450cc341, 'msedgeClick UI element in window'), (fac6a21c-1850-4a24-8578-809240e3fd5e, 'firefoxSelect menu option in window'), (init_loop_22, None), (init_loop_24, None), (init_loop_26, None), (init_loop_39, None), (init_loop_4, None), (init_loop_42, None), (init_loop_52, None), (init_loop_55, None), (init_loop_6, None), (loop_23, None), (skip_10, None), (skip_15, None), (skip_19, None), (skip_2, None), (skip_21, None), (skip_28, None), (skip_29, None), (skip_3, None), (skip_30, None), (skip_31, None), (skip_32, None), (skip_37, None), (skip_41, None), (skip_44, None), (skip_45, None), (skip_48, None), (skip_49, None), (skip_50, None), (skip_51, None), (skip_54, None), (skip_57, None), (skip_58, None), (skip_59, None), (skip_60, None), (skip_8, None), (skip_9, None), (tauJoin_12, None), (tauJoin_34, None), (tauSplit_11, None), (tauSplit_33, None) ]\n",
            "arcs: [ (01a928d7-8dca-4483-9d6a-7be7f91d7ebe, 'Send keys')->p_35, (0871810d-1654-420f-a7ca-159c59d3428b, 'OUTLOOKPress button in window')->p_24, (1650f8e7-dec1-4b72-bf27-8e113df2e209, 'chromePopulate text field in window')->p_53, (44e8745a-936c-480a-b415-c8e47014a361, 'firefoxClick UI element in window')->p_16, (47faac66-4981-4ed3-98f7-9e6996dd4602, 'chromePress button in window')->p_53, (5a3ee2ee-5cc4-4926-9b0f-0a15173c5c3a, 'Press button in window')->p_4, (7dd3f75e-d485-4992-8574-b385b67866d4, 'Click UI element in window')->p_4, (80680911-61c0-4d5c-8fea-7f6ea9bc7623, 'msedgePress button in window')->p_47, (8841afbe-a348-4570-96ff-2135e8bdc351, 'OUTLOOKPopulate text field in window')->p_27, (9dc0d948-8be2-4163-bcc3-571e5cec1678, 'msedgePopulate text field in window')->p_44, (a7728651-ff46-4b17-89c3-d42db58aa500, 'chromeClick UI element in window')->p_55, (af9ebd75-1578-47b7-952f-39ab0cc265ad, 'firefoxPress button in window')->p_9, (c75b4e39-7f7f-4ff2-aa71-f22835497c74, 'OUTLOOKClick UI element in window')->p_30, (d35db46b-bafa-42f6-b117-7cd4c996f8c7, 'firefoxPopulate text field in window')->p_21, (dcb019cb-e473-4c4d-8b17-c82a2de65aa5, 'OUTLOOKSelect tab in window')->p_25, (e59a9457-42d6-481c-a10b-1cdc450cc341, 'msedgeClick UI element in window')->p_48, (fac6a21c-1850-4a24-8578-809240e3fd5e, 'firefoxSelect menu option in window')->p_12, (init_loop_22, None)->p_23, (init_loop_24, None)->p_27, (init_loop_26, None)->p_29, (init_loop_39, None)->p_40, (init_loop_4, None)->p_6, (init_loop_42, None)->p_43, (init_loop_52, None)->p_51, (init_loop_55, None)->p_54, (init_loop_6, None)->p_8, (loop_23, None)->p_23, (skip_10, None)->p_12, (skip_15, None)->p_15, (skip_19, None)->p_20, (skip_2, None)->p_4, (skip_21, None)->p_5, (skip_28, None)->p_29, (skip_29, None)->p_28, (skip_3, None)->p_5, (skip_30, None)->p_26, (skip_31, None)->p_25, (skip_32, None)->p_5, (skip_37, None)->p_36, (skip_41, None)->p_42, (skip_44, None)->p_43, (skip_45, None)->p_42, (skip_48, None)->p_47, (skip_49, None)->p_41, (skip_50, None)->p_40, (skip_51, None)->p_39, (skip_54, None)->p_52, (skip_57, None)->p_54, (skip_58, None)->p_52, (skip_59, None)->p_51, (skip_60, None)->p_39, (skip_8, None)->p_8, (skip_9, None)->p_7, (tauJoin_12, None)->p_6, (tauJoin_34, None)->sink, (tauSplit_11, None)->p_15, (tauSplit_11, None)->p_20, (tauSplit_33, None)->p_35, (tauSplit_33, None)->p_38, p_12->(tauSplit_11, None), p_15->(44e8745a-936c-480a-b415-c8e47014a361, 'firefoxClick UI element in window'), p_16->(skip_15, None), p_16->(tauJoin_12, None), p_20->(d35db46b-bafa-42f6-b117-7cd4c996f8c7, 'firefoxPopulate text field in window'), p_21->(skip_19, None), p_21->(tauJoin_12, None), p_23->(0871810d-1654-420f-a7ca-159c59d3428b, 'OUTLOOKPress button in window'), p_24->(init_loop_24, None), p_24->(skip_32, None), p_25->(loop_23, None), p_26->(dcb019cb-e473-4c4d-8b17-c82a2de65aa5, 'OUTLOOKSelect tab in window'), p_26->(skip_31, None), p_27->(init_loop_26, None), p_28->(8841afbe-a348-4570-96ff-2135e8bdc351, 'OUTLOOKPopulate text field in window'), p_28->(skip_30, None), p_29->(c75b4e39-7f7f-4ff2-aa71-f22835497c74, 'OUTLOOKClick UI element in window'), p_30->(skip_28, None), p_30->(skip_29, None), p_35->(skip_37, None), p_36->(01a928d7-8dca-4483-9d6a-7be7f91d7ebe, 'Send keys'), p_36->(tauJoin_34, None), p_38->(init_loop_39, None), p_38->(init_loop_52, None), p_39->(tauJoin_34, None), p_4->(init_loop_22, None), p_4->(init_loop_4, None), p_4->(skip_3, None), p_40->(init_loop_42, None), p_40->(skip_41, None), p_41->(skip_50, None), p_41->(skip_51, None), p_42->(80680911-61c0-4d5c-8fea-7f6ea9bc7623, 'msedgePress button in window'), p_43->(9dc0d948-8be2-4163-bcc3-571e5cec1678, 'msedgePopulate text field in window'), p_44->(skip_44, None), p_44->(skip_45, None), p_47->(e59a9457-42d6-481c-a10b-1cdc450cc341, 'msedgeClick UI element in window'), p_48->(skip_48, None), p_48->(skip_49, None), p_5->(tauSplit_33, None), p_51->(1650f8e7-dec1-4b72-bf27-8e113df2e209, 'chromePopulate text field in window'), p_51->(47faac66-4981-4ed3-98f7-9e6996dd4602, 'chromePress button in window'), p_52->(skip_59, None), p_52->(skip_60, None), p_53->(init_loop_55, None), p_53->(skip_54, None), p_54->(a7728651-ff46-4b17-89c3-d42db58aa500, 'chromeClick UI element in window'), p_55->(skip_57, None), p_55->(skip_58, None), p_6->(init_loop_6, None), p_7->(fac6a21c-1850-4a24-8578-809240e3fd5e, 'firefoxSelect menu option in window'), p_7->(skip_10, None), p_7->(skip_21, None), p_8->(af9ebd75-1578-47b7-952f-39ab0cc265ad, 'firefoxPress button in window'), p_9->(skip_8, None), p_9->(skip_9, None), source->(5a3ee2ee-5cc4-4926-9b0f-0a15173c5c3a, 'Press button in window'), source->(7dd3f75e-d485-4992-8574-b385b67866d4, 'Click UI element in window'), source->(skip_2, None) ], ['source:1'], ['sink:1']), (places: [ p_10, p_11, p_12, p_13, p_16, p_17, p_18, p_19, p_20, p_23, p_24, p_25, p_27, p_28, p_29, p_3, p_30, p_32, p_33, p_4, p_5, p_6, p_7, p_8, sink, source ]\n",
            "transitions: [ (080814f0-1d6e-45d7-a85b-09420b3d5991, 'msedgePress button in window'), (0fbd6b06-b5cc-4a2a-be42-66f52029cfc9, 'chromeClick UI element in window'), (163eae82-3d67-41bf-811b-7c031b950063, 'Click UI element in window'), (1e071af0-5fa8-4109-8f2f-c9ce61c1224d, 'msedgeClick UI element in window'), (23bdf48a-5218-4635-9e08-aab7222a8583, 'Send keys'), (27bb9a92-e155-456c-a37b-073e70ce51a4, 'chromePrepare a form for employees feedback'), (3ada6958-c928-4e06-9124-bfa77d7f64a3, 'chromeSelect menu option in window'), (424585cc-fbd5-41a8-bb79-da0dc036a4f9, 'firefoxClick UI element in window'), (6508486e-dab1-4850-a944-bd57aac60304, 'Press button in window'), (8226af02-53e5-4175-a0e6-4b9b95c46c43, 'chromePress button in window'), (9c1f7d62-c50f-4b11-b413-e3201ec5e530, 'firefoxSelect menu option in window'), (9ca0e000-07a4-4cbb-8382-7d9f96a3b535, 'msedgePopulate text field in window'), (d6aca2d2-1a4a-4139-b560-bbf59fa072cc, 'firefoxPopulate text field in window'), (ef422a28-3f9c-4077-b652-5ea132f418e3, 'Select menu option in window'), (fa370f5a-30e7-4e3b-87e8-fc929dd97f8d, 'chromePopulate text field in window'), (init_loop_11, None), (init_loop_18, None), (init_loop_2, None), (init_loop_23, None), (init_loop_27, None), (skip_1, None), (skip_10, None), (skip_13, None), (skip_14, None), (skip_15, None), (skip_17, None), (skip_20, None), (skip_21, None), (skip_22, None), (skip_25, None), (skip_26, None), (skip_29, None), (skip_30, None), (skip_31, None), (skip_4, None), (skip_5, None), (tauJoin_7, None), (tauSplit_6, None) ]\n",
            "arcs: [ (080814f0-1d6e-45d7-a85b-09420b3d5991, 'msedgePress button in window')->p_20, (0fbd6b06-b5cc-4a2a-be42-66f52029cfc9, 'chromeClick UI element in window')->p_25, (163eae82-3d67-41bf-811b-7c031b950063, 'Click UI element in window')->p_3, (1e071af0-5fa8-4109-8f2f-c9ce61c1224d, 'msedgeClick UI element in window')->p_33, (23bdf48a-5218-4635-9e08-aab7222a8583, 'Send keys')->p_13, (27bb9a92-e155-456c-a37b-073e70ce51a4, 'chromePrepare a form for employees feedback')->sink, (3ada6958-c928-4e06-9124-bfa77d7f64a3, 'chromeSelect menu option in window')->p_7, (424585cc-fbd5-41a8-bb79-da0dc036a4f9, 'firefoxClick UI element in window')->p_30, (6508486e-dab1-4850-a944-bd57aac60304, 'Press button in window')->p_4, (8226af02-53e5-4175-a0e6-4b9b95c46c43, 'chromePress button in window')->p_8, (9c1f7d62-c50f-4b11-b413-e3201ec5e530, 'firefoxSelect menu option in window')->p_27, (9ca0e000-07a4-4cbb-8382-7d9f96a3b535, 'msedgePopulate text field in window')->p_17, (d6aca2d2-1a4a-4139-b560-bbf59fa072cc, 'firefoxPopulate text field in window')->p_3, (ef422a28-3f9c-4077-b652-5ea132f418e3, 'Select menu option in window')->p_5, (fa370f5a-30e7-4e3b-87e8-fc929dd97f8d, 'chromePopulate text field in window')->p_10, (init_loop_11, None)->p_19, (init_loop_18, None)->p_24, (init_loop_2, None)->p_7, (init_loop_23, None)->p_29, (init_loop_27, None)->p_32, (skip_1, None)->p_6, (skip_10, None)->p_18, (skip_13, None)->p_19, (skip_14, None)->p_18, (skip_15, None)->p_16, (skip_17, None)->p_23, (skip_20, None)->p_24, (skip_21, None)->p_23, (skip_22, None)->p_27, (skip_25, None)->p_29, (skip_26, None)->p_28, (skip_29, None)->p_32, (skip_30, None)->p_28, (skip_31, None)->sink, (skip_4, None)->p_6, (skip_5, None)->p_10, (tauJoin_7, None)->p_11, (tauSplit_6, None)->p_12, (tauSplit_6, None)->p_16, p_10->(tauSplit_6, None), p_11->(init_loop_18, None), p_11->(skip_17, None), p_12->(23bdf48a-5218-4635-9e08-aab7222a8583, 'Send keys'), p_13->(tauJoin_7, None), p_16->(init_loop_11, None), p_16->(skip_10, None), p_17->(skip_15, None), p_17->(tauJoin_7, None), p_18->(9ca0e000-07a4-4cbb-8382-7d9f96a3b535, 'msedgePopulate text field in window'), p_19->(080814f0-1d6e-45d7-a85b-09420b3d5991, 'msedgePress button in window'), p_20->(skip_13, None), p_20->(skip_14, None), p_23->(9c1f7d62-c50f-4b11-b413-e3201ec5e530, 'firefoxSelect menu option in window'), p_23->(skip_22, None), p_24->(0fbd6b06-b5cc-4a2a-be42-66f52029cfc9, 'chromeClick UI element in window'), p_25->(skip_20, None), p_25->(skip_21, None), p_27->(init_loop_23, None), p_27->(init_loop_27, None), p_28->(27bb9a92-e155-456c-a37b-073e70ce51a4, 'chromePrepare a form for employees feedback'), p_28->(skip_31, None), p_29->(424585cc-fbd5-41a8-bb79-da0dc036a4f9, 'firefoxClick UI element in window'), p_3->(init_loop_2, None), p_3->(skip_1, None), p_30->(skip_25, None), p_30->(skip_26, None), p_32->(1e071af0-5fa8-4109-8f2f-c9ce61c1224d, 'msedgeClick UI element in window'), p_33->(skip_29, None), p_33->(skip_30, None), p_4->(d6aca2d2-1a4a-4139-b560-bbf59fa072cc, 'firefoxPopulate text field in window'), p_5->(163eae82-3d67-41bf-811b-7c031b950063, 'Click UI element in window'), p_6->(fa370f5a-30e7-4e3b-87e8-fc929dd97f8d, 'chromePopulate text field in window'), p_6->(skip_5, None), p_7->(8226af02-53e5-4175-a0e6-4b9b95c46c43, 'chromePress button in window'), p_8->(3ada6958-c928-4e06-9124-bfa77d7f64a3, 'chromeSelect menu option in window'), p_8->(skip_4, None), source->(6508486e-dab1-4850-a944-bd57aac60304, 'Press button in window'), source->(ef422a28-3f9c-4077-b652-5ea132f418e3, 'Select menu option in window') ], ['source:1'], ['sink:1'])]\n"
          ]
        }
      ]
    },
    {
      "cell_type": "code",
      "source": [
        "print(models[0][0].places)\n",
        "print(models[0][0].transitions)\n",
        "print(models[0][0].arcs)"
      ],
      "metadata": {
        "colab": {
          "base_uri": "https://localhost:8080/"
        },
        "id": "K39RzakljLww",
        "outputId": "94047281-fbf9-42e5-a11d-3fc96b068982"
      },
      "execution_count": null,
      "outputs": [
        {
          "output_type": "stream",
          "name": "stdout",
          "text": [
            "{p_20, p_9, p_14, source, p_6, p_8, p_10, p_23, p_24, p_25, p_31, p_19, p_29, p_27, p_28, p_13, p_15, p_12, p_16, p_4, sink, p_5, p_3, p_7, p_32}\n",
            "{(skip_28, None), (skip_24, None), (init_loop_26, None), (10da3ee0-37f9-4d86-b085-3e5161648ad7, 'ShellExperienceHostClick UI element in window'), (84cc4691-c298-49dc-b345-1c56e0ddd7f1, 'OUTLOOKPress button in window'), (init_loop_5, None), (skip_4, None), (1ae85f41-0c6b-42c6-8d27-ac1eaed22fa0, 'msedgePopulate text field in window'), (tau_1, None), (5c11d18e-161a-42af-af68-8a200fad23f1, 'firefoxPress button in window'), (skip_2, None), (e23256de-a276-425d-904a-133ba031005e, 'Click UI element in window'), (a9d235c0-1cd7-4fb2-a1a2-0feb3e71ff63, 'chromePopulate text field in window'), (8c0b84f3-bcf3-4319-8eb9-192aa3593938, 'msedgePress button in window'), (73a14945-d547-401c-a5e7-992082616aa8, 'chromePress button in window'), (3e7f3155-4498-4b7d-bb70-5d5a48815201, 'chromeSelect menu option in window'), (skip_25, None), (skip_34, None), (skip_3, None), (init_loop_16, None), (skip_33, None), (skip_8, None), (init_loop_31, None), (skip_29, None), (skip_18, None), (skip_23, None), (8dab8b7a-a237-4763-aaf9-7415f0551915, 'Send keys'), (skip_19, None), (skip_9, None), (skip_7, None), (init_loop_10, None), (024318eb-a350-411d-a638-f069b05f1069, 'firefoxPopulate text field in window'), (2ee79cd6-6bbd-4bb5-854a-e97a95532750, 'chromeSelect tab in window'), (b9899541-2544-4fd3-a2f3-037d8cfe115b, 'msedgeSelect menu option in window'), (init_loop_12, None), (skip_14, None), (skip_20, None), (skip_15, None), (80777ce9-1e99-4f7b-87af-f229b02aaa44, 'OUTLOOKSelect menu option in window'), (skip_30, None), (6f306cf1-b998-4dcf-8536-50dcb7f9c380, 'firefoxClick UI element in window'), (bf9014b1-6d95-491a-a615-f5ecba551cbb, 'OUTLOOKClick UI element in window'), (582e75e0-5e09-45c2-a328-485dfebb7b07, 'Press button in window'), (51438e1a-881b-463f-b7b2-bef79846f275, 'msedgeClick UI element in window'), (6f690303-4ad1-431a-a4e7-2a3b5468bc85, 'chromeClick UI element in window')}\n",
            "{p_27->(skip_30, None), (8dab8b7a-a237-4763-aaf9-7415f0551915, 'Send keys')->p_29, p_8->(skip_4, None), p_8->(init_loop_5, None), p_25->(skip_23, None), (tau_1, None)->sink, (5c11d18e-161a-42af-af68-8a200fad23f1, 'firefoxPress button in window')->p_5, (73a14945-d547-401c-a5e7-992082616aa8, 'chromePress button in window')->p_16, (init_loop_5, None)->p_9, p_24->(84cc4691-c298-49dc-b345-1c56e0ddd7f1, 'OUTLOOKPress button in window'), (skip_25, None)->p_6, p_27->(init_loop_31, None), (6f690303-4ad1-431a-a4e7-2a3b5468bc85, 'chromeClick UI element in window')->p_29, (skip_15, None)->p_14, p_14->(init_loop_16, None), (init_loop_12, None)->p_15, p_16->(skip_15, None), (skip_9, None)->p_12, (skip_33, None)->p_31, p_3->(tau_1, None), source->(e23256de-a276-425d-904a-133ba031005e, 'Click UI element in window'), (10da3ee0-37f9-4d86-b085-3e5161648ad7, 'ShellExperienceHostClick UI element in window')->p_3, p_27->(10da3ee0-37f9-4d86-b085-3e5161648ad7, 'ShellExperienceHostClick UI element in window'), p_29->(skip_28, None), p_28->(51438e1a-881b-463f-b7b2-bef79846f275, 'msedgeClick UI element in window'), p_4->(a9d235c0-1cd7-4fb2-a1a2-0feb3e71ff63, 'chromePopulate text field in window'), p_23->(skip_25, None), (skip_3, None)->p_8, p_5->(024318eb-a350-411d-a638-f069b05f1069, 'firefoxPopulate text field in window'), p_7->(skip_3, None), (init_loop_16, None)->p_19, (skip_4, None)->p_6, (skip_14, None)->p_15, p_25->(skip_24, None), (84cc4691-c298-49dc-b345-1c56e0ddd7f1, 'OUTLOOKPress button in window')->p_25, p_28->(bf9014b1-6d95-491a-a615-f5ecba551cbb, 'OUTLOOKClick UI element in window'), p_32->(skip_34, None), (init_loop_31, None)->p_31, (1ae85f41-0c6b-42c6-8d27-ac1eaed22fa0, 'msedgePopulate text field in window')->p_10, p_12->(582e75e0-5e09-45c2-a328-485dfebb7b07, 'Press button in window'), p_10->(skip_8, None), (skip_23, None)->p_24, (skip_2, None)->p_4, (8c0b84f3-bcf3-4319-8eb9-192aa3593938, 'msedgePress button in window')->p_7, (80777ce9-1e99-4f7b-87af-f229b02aaa44, 'OUTLOOKSelect menu option in window')->p_6, (skip_19, None)->p_13, (bf9014b1-6d95-491a-a615-f5ecba551cbb, 'OUTLOOKClick UI element in window')->p_29, p_28->(8dab8b7a-a237-4763-aaf9-7415f0551915, 'Send keys'), (init_loop_10, None)->p_13, p_20->(skip_19, None), p_16->(skip_14, None), (51438e1a-881b-463f-b7b2-bef79846f275, 'msedgeClick UI element in window')->p_29, (skip_29, None)->p_27, p_31->(6f306cf1-b998-4dcf-8536-50dcb7f9c380, 'firefoxClick UI element in window'), (6f306cf1-b998-4dcf-8536-50dcb7f9c380, 'firefoxClick UI element in window')->p_32, p_28->(6f690303-4ad1-431a-a4e7-2a3b5468bc85, 'chromeClick UI element in window'), (skip_20, None)->p_12, p_4->(skip_9, None), p_14->(skip_20, None), p_6->(init_loop_26, None), (e23256de-a276-425d-904a-133ba031005e, 'Click UI element in window')->p_4, source->(skip_2, None), (b9899541-2544-4fd3-a2f3-037d8cfe115b, 'msedgeSelect menu option in window')->p_8, p_13->(init_loop_12, None), (3e7f3155-4498-4b7d-bb70-5d5a48815201, 'chromeSelect menu option in window')->p_20, (skip_30, None)->p_3, (a9d235c0-1cd7-4fb2-a1a2-0feb3e71ff63, 'chromePopulate text field in window')->p_6, p_7->(b9899541-2544-4fd3-a2f3-037d8cfe115b, 'msedgeSelect menu option in window'), source->(5c11d18e-161a-42af-af68-8a200fad23f1, 'firefoxPress button in window'), source->(2ee79cd6-6bbd-4bb5-854a-e97a95532750, 'chromeSelect tab in window'), (2ee79cd6-6bbd-4bb5-854a-e97a95532750, 'chromeSelect tab in window')->p_4, p_4->(8c0b84f3-bcf3-4319-8eb9-192aa3593938, 'msedgePress button in window'), p_23->(80777ce9-1e99-4f7b-87af-f229b02aaa44, 'OUTLOOKSelect menu option in window'), (582e75e0-5e09-45c2-a328-485dfebb7b07, 'Press button in window')->p_24, p_15->(73a14945-d547-401c-a5e7-992082616aa8, 'chromePress button in window'), (init_loop_26, None)->p_28, p_10->(skip_7, None), (skip_18, None)->p_19, (skip_24, None)->p_23, (024318eb-a350-411d-a638-f069b05f1069, 'firefoxPopulate text field in window')->p_4, p_9->(1ae85f41-0c6b-42c6-8d27-ac1eaed22fa0, 'msedgePopulate text field in window'), p_4->(init_loop_10, None), (skip_7, None)->p_9, (skip_28, None)->p_28, p_19->(3e7f3155-4498-4b7d-bb70-5d5a48815201, 'chromeSelect menu option in window'), (skip_34, None)->p_3, (skip_8, None)->p_6, p_32->(skip_33, None), p_29->(skip_29, None), p_20->(skip_18, None)}\n"
          ]
        }
      ]
    },
    {
      "cell_type": "code",
      "source": [
        "with open(r'models.txt', 'w') as fp:\n",
        "    for item in models:\n",
        "        # write each item on a new line\n",
        "        fp.write(\"%s\\n\" % item)\n",
        "    print('Done')"
      ],
      "metadata": {
        "colab": {
          "base_uri": "https://localhost:8080/"
        },
        "id": "3cMW7ianelzZ",
        "outputId": "d4471d6a-cf0f-42d7-e197-81446afdf575"
      },
      "execution_count": null,
      "outputs": [
        {
          "output_type": "stream",
          "name": "stdout",
          "text": [
            "Done\n"
          ]
        }
      ]
    },
    {
      "cell_type": "code",
      "source": [
        "def Conf_imf_align_NT(model,log):\n",
        "\n",
        "    model = pd.read_csv(model, sep=',',encoding='latin1')\n",
        "    model_csv= model[['RecordingId','ApplicationProcessNameStepName','TimeStamp']]\n",
        "\n",
        "    cols = ['case:concept:name','concept:name','time:timestamp']\n",
        "    model_csv.columns = cols\n",
        "    model_csv['time:timestamp'] = pd.to_datetime(model_csv['time:timestamp'])\n",
        "    model_csv['concept:name'] = model_csv['concept:name'].astype(str)\n",
        "\n",
        "\n",
        "    model = log_converter.apply(model_csv, variant=log_converter.Variants.TO_EVENT_LOG)\n",
        "\n",
        "    net, initial_marking, final_marking = im_f.algorithm.apply(model,parameters={\"noiseThreshold\" : 0.5})\n",
        "    \n",
        "    log = pd.read_csv(log, sep=',',encoding='latin1')\n",
        "    log_csv= log[['RecordingId','ApplicationProcessNameStepName','TimeStamp']]\n",
        "\n",
        "    cols = ['case:concept:name','concept:name','time:timestamp']\n",
        "\n",
        "    log_csv.columns = cols\n",
        "    log_csv['time:timestamp'] = pd.to_datetime(log_csv['time:timestamp'])\n",
        "    log_csv['concept:name'] = log_csv['concept:name'].astype(str)\n",
        "\n",
        "    log = log_converter.apply(log_csv, variant=log_converter.Variants.TO_EVENT_LOG)\n",
        "\n",
        "    # Conformance checking using token-based replay\n",
        "    aligned_traces = alignments.apply_log(log, net, initial_marking, final_marking)\n",
        "\n",
        "    df = pd.DataFrame(aligned_traces)\n",
        "    # dff = df[\"trace_fitness\"].mean()\n",
        "    return df"
      ],
      "metadata": {
        "id": "YNhFEGRk2MIL"
      },
      "execution_count": null,
      "outputs": []
    },
    {
      "cell_type": "code",
      "source": [
        "y = file_list_model\n",
        "x = file_list_log\n",
        "data_first0=[]\n",
        "for i in file_list_model:\n",
        "  row=[]\n",
        "\n",
        "  for j in file_list_log:\n",
        "     row.append(Conf_imf_align_NT(i,j))\n",
        "\n",
        "\n",
        "  data_first0.append(row)\n",
        "  \n",
        "\n",
        "df_first0 = pd.DataFrame(data_first0, index=y, columns=x)\n",
        "df_first0"
      ],
      "metadata": {
        "id": "GtvTk5hK16Fr"
      },
      "execution_count": null,
      "outputs": []
    },
    {
      "cell_type": "code",
      "source": [
        "file_list_log"
      ],
      "metadata": {
        "id": "xvfcE_mr2Kz8"
      },
      "execution_count": null,
      "outputs": []
    },
    {
      "cell_type": "code",
      "source": [
        "trace=[]\n",
        "fitness=[]\n",
        "for k in range(10):\n",
        "    trace.append(row[k].alignment)\n",
        "    fitness.append(row[k].fitness)"
      ],
      "metadata": {
        "id": "x5SIWbTM5PN1"
      },
      "execution_count": null,
      "outputs": []
    },
    {
      "cell_type": "code",
      "source": [
        "import numpy as np\n",
        "print(x)\n",
        "index = pd.MultiIndex.from_arrays([trace],names=x)"
      ],
      "metadata": {
        "id": "iSfFPeCyChxA"
      },
      "execution_count": null,
      "outputs": []
    },
    {
      "cell_type": "code",
      "source": [
        "# print((trace))\n",
        "print(fitness)"
      ],
      "metadata": {
        "colab": {
          "base_uri": "https://localhost:8080/"
        },
        "id": "pcPIHIqz_hvj",
        "outputId": "369ec5ea-0999-4287-b92c-876bc12cc993"
      },
      "execution_count": null,
      "outputs": [
        {
          "output_type": "stream",
          "name": "stdout",
          "text": [
            "[0    0.619048\n",
            "1    0.473684\n",
            "2    0.222222\n",
            "3    0.222222\n",
            "4    0.111111\n",
            "5    0.210526\n",
            "Name: fitness, dtype: float64, 0    0.285714\n",
            "1    0.529412\n",
            "2    0.733333\n",
            "3    0.615385\n",
            "Name: fitness, dtype: float64, 0    0.235294\n",
            "1    0.823529\n",
            "2    0.540000\n",
            "3    0.181818\n",
            "4    0.800000\n",
            "5    0.181818\n",
            "6    0.181818\n",
            "Name: fitness, dtype: float64, 0    0.720000\n",
            "1    0.434783\n",
            "2    0.555556\n",
            "3    0.633333\n",
            "4    0.416667\n",
            "Name: fitness, dtype: float64, 0    0.631579\n",
            "1    0.923077\n",
            "2    0.222222\n",
            "3    0.666667\n",
            "Name: fitness, dtype: float64, 0    0.235294\n",
            "1    0.200000\n",
            "2    0.777778\n",
            "3    0.434783\n",
            "4    0.210526\n",
            "Name: fitness, dtype: float64, 0    0.105263\n",
            "1    0.375000\n",
            "2    0.517241\n",
            "3    0.350000\n",
            "4    0.000000\n",
            "Name: fitness, dtype: float64, 0    0.545455\n",
            "1    0.500000\n",
            "2    0.529412\n",
            "3    0.523810\n",
            "Name: fitness, dtype: float64, 0    0.080000\n",
            "1    0.555556\n",
            "2    0.500000\n",
            "3    0.476190\n",
            "4    0.291667\n",
            "Name: fitness, dtype: float64]\n"
          ]
        }
      ]
    },
    {
      "cell_type": "code",
      "source": [
        "pd.DataFrame(fitness)"
      ],
      "metadata": {
        "colab": {
          "base_uri": "https://localhost:8080/",
          "height": 332
        },
        "id": "bg4_hu2BHn4O",
        "outputId": "69c6b8e0-483f-4616-8554-39b2ab220b0d"
      },
      "execution_count": null,
      "outputs": [
        {
          "output_type": "execute_result",
          "data": {
            "text/plain": [
              "                0         1         2         3         4         5         6\n",
              "fitness  0.619048  0.473684  0.222222  0.222222  0.111111  0.210526       NaN\n",
              "fitness  0.285714  0.529412  0.733333  0.615385       NaN       NaN       NaN\n",
              "fitness  0.235294  0.823529  0.540000  0.181818  0.800000  0.181818  0.181818\n",
              "fitness  0.720000  0.434783  0.555556  0.633333  0.416667       NaN       NaN\n",
              "fitness  0.631579  0.923077  0.222222  0.666667       NaN       NaN       NaN\n",
              "fitness  0.235294  0.200000  0.777778  0.434783  0.210526       NaN       NaN\n",
              "fitness  0.105263  0.375000  0.517241  0.350000  0.000000       NaN       NaN\n",
              "fitness  0.545455  0.500000  0.529412  0.523810       NaN       NaN       NaN\n",
              "fitness  0.080000  0.555556  0.500000  0.476190  0.291667       NaN       NaN"
            ],
            "text/html": [
              "\n",
              "  <div id=\"df-df6f59ad-661f-44fd-a750-5d1ad6a63e20\">\n",
              "    <div class=\"colab-df-container\">\n",
              "      <div>\n",
              "<style scoped>\n",
              "    .dataframe tbody tr th:only-of-type {\n",
              "        vertical-align: middle;\n",
              "    }\n",
              "\n",
              "    .dataframe tbody tr th {\n",
              "        vertical-align: top;\n",
              "    }\n",
              "\n",
              "    .dataframe thead th {\n",
              "        text-align: right;\n",
              "    }\n",
              "</style>\n",
              "<table border=\"1\" class=\"dataframe\">\n",
              "  <thead>\n",
              "    <tr style=\"text-align: right;\">\n",
              "      <th></th>\n",
              "      <th>0</th>\n",
              "      <th>1</th>\n",
              "      <th>2</th>\n",
              "      <th>3</th>\n",
              "      <th>4</th>\n",
              "      <th>5</th>\n",
              "      <th>6</th>\n",
              "    </tr>\n",
              "  </thead>\n",
              "  <tbody>\n",
              "    <tr>\n",
              "      <th>fitness</th>\n",
              "      <td>0.619048</td>\n",
              "      <td>0.473684</td>\n",
              "      <td>0.222222</td>\n",
              "      <td>0.222222</td>\n",
              "      <td>0.111111</td>\n",
              "      <td>0.210526</td>\n",
              "      <td>NaN</td>\n",
              "    </tr>\n",
              "    <tr>\n",
              "      <th>fitness</th>\n",
              "      <td>0.285714</td>\n",
              "      <td>0.529412</td>\n",
              "      <td>0.733333</td>\n",
              "      <td>0.615385</td>\n",
              "      <td>NaN</td>\n",
              "      <td>NaN</td>\n",
              "      <td>NaN</td>\n",
              "    </tr>\n",
              "    <tr>\n",
              "      <th>fitness</th>\n",
              "      <td>0.235294</td>\n",
              "      <td>0.823529</td>\n",
              "      <td>0.540000</td>\n",
              "      <td>0.181818</td>\n",
              "      <td>0.800000</td>\n",
              "      <td>0.181818</td>\n",
              "      <td>0.181818</td>\n",
              "    </tr>\n",
              "    <tr>\n",
              "      <th>fitness</th>\n",
              "      <td>0.720000</td>\n",
              "      <td>0.434783</td>\n",
              "      <td>0.555556</td>\n",
              "      <td>0.633333</td>\n",
              "      <td>0.416667</td>\n",
              "      <td>NaN</td>\n",
              "      <td>NaN</td>\n",
              "    </tr>\n",
              "    <tr>\n",
              "      <th>fitness</th>\n",
              "      <td>0.631579</td>\n",
              "      <td>0.923077</td>\n",
              "      <td>0.222222</td>\n",
              "      <td>0.666667</td>\n",
              "      <td>NaN</td>\n",
              "      <td>NaN</td>\n",
              "      <td>NaN</td>\n",
              "    </tr>\n",
              "    <tr>\n",
              "      <th>fitness</th>\n",
              "      <td>0.235294</td>\n",
              "      <td>0.200000</td>\n",
              "      <td>0.777778</td>\n",
              "      <td>0.434783</td>\n",
              "      <td>0.210526</td>\n",
              "      <td>NaN</td>\n",
              "      <td>NaN</td>\n",
              "    </tr>\n",
              "    <tr>\n",
              "      <th>fitness</th>\n",
              "      <td>0.105263</td>\n",
              "      <td>0.375000</td>\n",
              "      <td>0.517241</td>\n",
              "      <td>0.350000</td>\n",
              "      <td>0.000000</td>\n",
              "      <td>NaN</td>\n",
              "      <td>NaN</td>\n",
              "    </tr>\n",
              "    <tr>\n",
              "      <th>fitness</th>\n",
              "      <td>0.545455</td>\n",
              "      <td>0.500000</td>\n",
              "      <td>0.529412</td>\n",
              "      <td>0.523810</td>\n",
              "      <td>NaN</td>\n",
              "      <td>NaN</td>\n",
              "      <td>NaN</td>\n",
              "    </tr>\n",
              "    <tr>\n",
              "      <th>fitness</th>\n",
              "      <td>0.080000</td>\n",
              "      <td>0.555556</td>\n",
              "      <td>0.500000</td>\n",
              "      <td>0.476190</td>\n",
              "      <td>0.291667</td>\n",
              "      <td>NaN</td>\n",
              "      <td>NaN</td>\n",
              "    </tr>\n",
              "  </tbody>\n",
              "</table>\n",
              "</div>\n",
              "      <button class=\"colab-df-convert\" onclick=\"convertToInteractive('df-df6f59ad-661f-44fd-a750-5d1ad6a63e20')\"\n",
              "              title=\"Convert this dataframe to an interactive table.\"\n",
              "              style=\"display:none;\">\n",
              "        \n",
              "  <svg xmlns=\"http://www.w3.org/2000/svg\" height=\"24px\"viewBox=\"0 0 24 24\"\n",
              "       width=\"24px\">\n",
              "    <path d=\"M0 0h24v24H0V0z\" fill=\"none\"/>\n",
              "    <path d=\"M18.56 5.44l.94 2.06.94-2.06 2.06-.94-2.06-.94-.94-2.06-.94 2.06-2.06.94zm-11 1L8.5 8.5l.94-2.06 2.06-.94-2.06-.94L8.5 2.5l-.94 2.06-2.06.94zm10 10l.94 2.06.94-2.06 2.06-.94-2.06-.94-.94-2.06-.94 2.06-2.06.94z\"/><path d=\"M17.41 7.96l-1.37-1.37c-.4-.4-.92-.59-1.43-.59-.52 0-1.04.2-1.43.59L10.3 9.45l-7.72 7.72c-.78.78-.78 2.05 0 2.83L4 21.41c.39.39.9.59 1.41.59.51 0 1.02-.2 1.41-.59l7.78-7.78 2.81-2.81c.8-.78.8-2.07 0-2.86zM5.41 20L4 18.59l7.72-7.72 1.47 1.35L5.41 20z\"/>\n",
              "  </svg>\n",
              "      </button>\n",
              "      \n",
              "  <style>\n",
              "    .colab-df-container {\n",
              "      display:flex;\n",
              "      flex-wrap:wrap;\n",
              "      gap: 12px;\n",
              "    }\n",
              "\n",
              "    .colab-df-convert {\n",
              "      background-color: #E8F0FE;\n",
              "      border: none;\n",
              "      border-radius: 50%;\n",
              "      cursor: pointer;\n",
              "      display: none;\n",
              "      fill: #1967D2;\n",
              "      height: 32px;\n",
              "      padding: 0 0 0 0;\n",
              "      width: 32px;\n",
              "    }\n",
              "\n",
              "    .colab-df-convert:hover {\n",
              "      background-color: #E2EBFA;\n",
              "      box-shadow: 0px 1px 2px rgba(60, 64, 67, 0.3), 0px 1px 3px 1px rgba(60, 64, 67, 0.15);\n",
              "      fill: #174EA6;\n",
              "    }\n",
              "\n",
              "    [theme=dark] .colab-df-convert {\n",
              "      background-color: #3B4455;\n",
              "      fill: #D2E3FC;\n",
              "    }\n",
              "\n",
              "    [theme=dark] .colab-df-convert:hover {\n",
              "      background-color: #434B5C;\n",
              "      box-shadow: 0px 1px 3px 1px rgba(0, 0, 0, 0.15);\n",
              "      filter: drop-shadow(0px 1px 2px rgba(0, 0, 0, 0.3));\n",
              "      fill: #FFFFFF;\n",
              "    }\n",
              "  </style>\n",
              "\n",
              "      <script>\n",
              "        const buttonEl =\n",
              "          document.querySelector('#df-df6f59ad-661f-44fd-a750-5d1ad6a63e20 button.colab-df-convert');\n",
              "        buttonEl.style.display =\n",
              "          google.colab.kernel.accessAllowed ? 'block' : 'none';\n",
              "\n",
              "        async function convertToInteractive(key) {\n",
              "          const element = document.querySelector('#df-df6f59ad-661f-44fd-a750-5d1ad6a63e20');\n",
              "          const dataTable =\n",
              "            await google.colab.kernel.invokeFunction('convertToInteractive',\n",
              "                                                     [key], {});\n",
              "          if (!dataTable) return;\n",
              "\n",
              "          const docLinkHtml = 'Like what you see? Visit the ' +\n",
              "            '<a target=\"_blank\" href=https://colab.research.google.com/notebooks/data_table.ipynb>data table notebook</a>'\n",
              "            + ' to learn more about interactive tables.';\n",
              "          element.innerHTML = '';\n",
              "          dataTable['output_type'] = 'display_data';\n",
              "          await google.colab.output.renderOutput(dataTable, element);\n",
              "          const docLink = document.createElement('div');\n",
              "          docLink.innerHTML = docLinkHtml;\n",
              "          element.appendChild(docLink);\n",
              "        }\n",
              "      </script>\n",
              "    </div>\n",
              "  </div>\n",
              "  "
            ]
          },
          "metadata": {},
          "execution_count": 110
        }
      ]
    },
    {
      "cell_type": "code",
      "source": [
        "print(row[0])"
      ],
      "metadata": {
        "colab": {
          "base_uri": "https://localhost:8080/"
        },
        "id": "L1-8JYK7_Abl",
        "outputId": "80387e28-a5a0-4227-dcb9-6c52c370f27d"
      },
      "execution_count": null,
      "outputs": [
        {
          "output_type": "stream",
          "name": "stdout",
          "text": [
            "[                                           alignment    cost  visited_states  \\\n",
            "0  [(>>, Press button in window), (>>, firefoxPop...   80017             259   \n",
            "1  [(>>, Press button in window), (>>, firefoxPop...  100019             147   \n",
            "2  [(Press button in window, Press button in wind...   70010              18   \n",
            "3  [(Press button in window, Press button in wind...   70010              18   \n",
            "4  [(ShellExperienceHostPress button in window, >...  160010              28   \n",
            "5  [(Press button in window, Press button in wind...  150010              27   \n",
            "\n",
            "   queued_states  traversed_arcs  lp_solved   fitness     bwc  \n",
            "0            423             708        258  0.619048  210010  \n",
            "1            302             390        137  0.473684  190010  \n",
            "2             36              38          3  0.222222   90010  \n",
            "3             36              38          2  0.222222   90010  \n",
            "4             75              78          6  0.111111  180010  \n",
            "5             73              75          1  0.210526  190010  ,                                            alignment    cost  visited_states  \\\n",
            "0  [(Press button in window, Press button in wind...  250016             670   \n",
            "1  [(Select menu option in window, Select menu op...  160020             166   \n",
            "2  [(Select menu option in window, Select menu op...   40011              52   \n",
            "3  [(Select menu option in window, Select menu op...  100017             427   \n",
            "\n",
            "   queued_states  traversed_arcs  lp_solved   fitness     bwc  \n",
            "0           1001            1801        476  0.285714  350010  \n",
            "1            384             444        143  0.529412  340010  \n",
            "2            119             150         56  0.733333  150010  \n",
            "3            630            1172        358  0.615385  260010  ,                                            alignment    cost  visited_states  \\\n",
            "0  [(Press button in window, Press button in wind...  130010              28   \n",
            "1  [(Select menu option in window, Select menu op...   30020             105   \n",
            "2  [(>>, Press button in window), (>>, firefoxPop...  230041            1015   \n",
            "3  [(Press button in window, Press button in wind...  180010              30   \n",
            "4  [(Press button in window, Press button in wind...   30016              76   \n",
            "5  [(Press button in window, Press button in wind...  180010              30   \n",
            "6  [(Press button in window, Press button in wind...   90010              20   \n",
            "\n",
            "   queued_states  traversed_arcs  lp_solved   fitness     bwc  \n",
            "0             75              78          7  0.235294  170010  \n",
            "1            236             274         64  0.823529  170010  \n",
            "2           1674            2800       1078  0.540000  500010  \n",
            "3             82              84          8  0.181818  220010  \n",
            "4            179             202         57  0.800000  150010  \n",
            "5             82              84          5  0.181818  220010  \n",
            "6             42              44          3  0.181818  110010  ,                                            alignment    cost  visited_states  \\\n",
            "0  [(Select menu option in window, Select menu op...   70021             334   \n",
            "1  [(firefoxPress button in window, >>), (>>, Pre...  130014              45   \n",
            "2  [(Press button in window, Press button in wind...   80012              58   \n",
            "3  [(Select menu option in window, Select menu op...  110023             438   \n",
            "4  [(>>, Select menu option in window), (>>, Clic...  140018             155   \n",
            "\n",
            "   queued_states  traversed_arcs  lp_solved   fitness     bwc  \n",
            "0            552             923        351  0.720000  250010  \n",
            "1            118             126         18  0.434783  230010  \n",
            "2            126             158         56  0.555556  180010  \n",
            "3            679            1198        454  0.633333  300010  \n",
            "4            328             412        163  0.416667  240010  ,                                            alignment    cost  visited_states  \\\n",
            "0  [(>>, Select menu option in window), (>>, Clic...   70018             108   \n",
            "1  [(Select menu option in window, Select menu op...   10012              27   \n",
            "2  [(Press button in window, Press button in wind...  140010              26   \n",
            "3  [(Select menu option in window, Select menu op...   40014              46   \n",
            "\n",
            "   queued_states  traversed_arcs  lp_solved   fitness     bwc  \n",
            "0            242             286        106  0.631579  190010  \n",
            "1             71              75         34  0.923077  130010  \n",
            "2             70              72          8  0.222222  180010  \n",
            "3            109             120         38  0.666667  120010  ,                                            alignment    cost  visited_states  \\\n",
            "0  [(Press button in window, Press button in wind...  130010              25   \n",
            "1  [(Press button in window, Press button in wind...   80010              19   \n",
            "2  [(Select menu option in window, Select menu op...   40014              39   \n",
            "3  [(>>, Press button in window), (>>, firefoxPop...  130014             309   \n",
            "4  [(Press button in window, Press button in wind...  150010              30   \n",
            "\n",
            "   queued_states  traversed_arcs  lp_solved   fitness     bwc  \n",
            "0             67              69          5  0.235294  170010  \n",
            "1             39              41          2  0.200000  100010  \n",
            "2            106             114         58  0.777778  180010  \n",
            "3            506             852        353  0.434783  230010  \n",
            "4             81              84          6  0.210526  190010  ,                                            alignment    cost  visited_states  \\\n",
            "0  [(Press button in window, Press button in wind...  170010              28   \n",
            "1  [(Select menu option in window, Select menu op...  150015             423   \n",
            "2  [(Select menu option in window, Select menu op...  140017             121   \n",
            "3  [(>>, Select menu option in window), (Click UI...  130013             165   \n",
            "4  [(TeamsClick UI element in window, >>), (>>, S...  200010              30   \n",
            "\n",
            "   queued_states  traversed_arcs  lp_solved   fitness     bwc  \n",
            "0             66              68          3  0.105263  190010  \n",
            "1            670            1142        356  0.375000  240010  \n",
            "2            276             322        103  0.517241  290010  \n",
            "3            309             442        163  0.350000  200010  \n",
            "4             71              73          3  0.000000  200010  ,                                            alignment    cost  visited_states  \\\n",
            "0  [(>>, Press button in window), (>>, firefoxPop...   50014              75   \n",
            "1  [(Press button in window, Press button in wind...  130019             369   \n",
            "2  [(>>, Press button in window), (>>, firefoxPop...   80017             217   \n",
            "3  [(>>, Press button in window), (>>, firefoxPop...  100019             270   \n",
            "\n",
            "   queued_states  traversed_arcs  lp_solved   fitness     bwc  \n",
            "0            149             206         83  0.545455  110010  \n",
            "1            597             982        311  0.500000  260010  \n",
            "2            342             592        183  0.529412  170010  \n",
            "3            456             736        271  0.523810  210010  ,                                            alignment    cost  visited_states  \\\n",
            "0  [(OUTLOOKSelect menu option in window, >>), (>...  230010              34   \n",
            "1  [(>>, Select menu option in window), (>>, Clic...  120021             283   \n",
            "2  [(>>, Select menu option in window), (>>, Clic...  110018             374   \n",
            "3  [(>>, Press button in window), (firefoxPopulat...  110014              71   \n",
            "4  [(>>, Select menu option in window), (>>, Clic...  170015             271   \n",
            "\n",
            "   queued_states  traversed_arcs  lp_solved   fitness     bwc  \n",
            "0             93              95          4  0.080000  250010  \n",
            "1            510             751        262  0.555556  270010  \n",
            "2            595            1033        353  0.500000  220010  \n",
            "3            168             200         85  0.476190  210010  \n",
            "4            504             735        274  0.291667  240010  ,                                            alignment   cost  visited_states  \\\n",
            "0  [(Select menu option in window, Select menu op...  30013              35   \n",
            "1  [(Press button in window, Press button in wind...  60013              45   \n",
            "2  [(Select menu option in window, Select menu op...  40012              42   \n",
            "3  [(Select menu option in window, Select menu op...  50015              49   \n",
            "\n",
            "   queued_states  traversed_arcs  lp_solved   fitness     bwc  \n",
            "0             84              91         24  0.700000  100010  \n",
            "1            116             129         56  0.647059  170010  \n",
            "2            104             122         38  0.750000  160010  \n",
            "3            117             129         32  0.642857  140010  ]\n"
          ]
        }
      ]
    },
    {
      "cell_type": "code",
      "source": [
        "df_first0.to_csv('out.csv')"
      ],
      "metadata": {
        "id": "697M6CuAqzRd"
      },
      "execution_count": null,
      "outputs": []
    }
  ]
}